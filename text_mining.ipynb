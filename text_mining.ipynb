{
 "cells": [
  {
   "cell_type": "code",
   "execution_count": 10,
   "id": "bd5257f1",
   "metadata": {},
   "outputs": [],
   "source": [
    "from river import datasets\n",
    "from river import tree\n",
    "from river import metrics\n",
    "from river import evaluate, stream\n",
    "import kagglehub\n",
    "import os\n",
    "from river import feature_selection\n",
    "from river import preprocessing\n",
    "import pandas as pd\n",
    "import numpy as np\n",
    "import matplotlib\n",
    "import matplotlib.pyplot as plt\n",
    "import seaborn as sns\n",
    "import tqdm\n",
    "import random\n",
    "from river.feature_extraction import TFIDF \n",
    "from river.naive_bayes import MultinomialNB\n",
    "from river.compose import Pipeline"
   ]
  },
  {
   "cell_type": "code",
   "execution_count": 11,
   "id": "4dfbbe23",
   "metadata": {},
   "outputs": [],
   "source": [
    "folder_path = 'C:/Users/moyap/OneDrive/Escritorio/MASTER IAA/ML en Flujos de datos y Series Temporales/ProyectoFinal-Flujos/data'"
   ]
  },
  {
   "cell_type": "code",
   "execution_count": 12,
   "id": "fef3bb54",
   "metadata": {},
   "outputs": [],
   "source": [
    "csv = os.path.join(folder_path, 'jobs2.csv')"
   ]
  },
  {
   "cell_type": "code",
   "execution_count": 13,
   "id": "602c0028",
   "metadata": {},
   "outputs": [],
   "source": [
    "df = pd.read_csv(csv, parse_dates=[\"fecha_publicacion\"])"
   ]
  },
  {
   "cell_type": "code",
   "execution_count": 14,
   "id": "a99cea8b",
   "metadata": {},
   "outputs": [
    {
     "data": {
      "text/html": [
       "<div>\n",
       "<style scoped>\n",
       "    .dataframe tbody tr th:only-of-type {\n",
       "        vertical-align: middle;\n",
       "    }\n",
       "\n",
       "    .dataframe tbody tr th {\n",
       "        vertical-align: top;\n",
       "    }\n",
       "\n",
       "    .dataframe thead th {\n",
       "        text-align: right;\n",
       "    }\n",
       "</style>\n",
       "<table border=\"1\" class=\"dataframe\">\n",
       "  <thead>\n",
       "    <tr style=\"text-align: right;\">\n",
       "      <th></th>\n",
       "      <th>titulo</th>\n",
       "      <th>descripcion</th>\n",
       "      <th>categoria</th>\n",
       "      <th>fecha_publicacion</th>\n",
       "    </tr>\n",
       "  </thead>\n",
       "  <tbody>\n",
       "    <tr>\n",
       "      <th>0</th>\n",
       "      <td>Gestor/a de riesgos</td>\n",
       "      <td>Controller buscado para un puesto estable en e...</td>\n",
       "      <td>finanzas</td>\n",
       "      <td>2023-06-07</td>\n",
       "    </tr>\n",
       "    <tr>\n",
       "      <th>1</th>\n",
       "      <td>Controller</td>\n",
       "      <td>Contable buscado para un puesto estable en el ...</td>\n",
       "      <td>finanzas</td>\n",
       "      <td>2023-08-13</td>\n",
       "    </tr>\n",
       "    <tr>\n",
       "      <th>2</th>\n",
       "      <td>Preparador/a físico/a</td>\n",
       "      <td>Técnico/a de rendimiento buscado para un puest...</td>\n",
       "      <td>deportes</td>\n",
       "      <td>2024-08-14</td>\n",
       "    </tr>\n",
       "    <tr>\n",
       "      <th>3</th>\n",
       "      <td>Preparador/a físico/a</td>\n",
       "      <td>Entrenador/a buscado para un puesto estable en...</td>\n",
       "      <td>deportes</td>\n",
       "      <td>2024-11-07</td>\n",
       "    </tr>\n",
       "    <tr>\n",
       "      <th>4</th>\n",
       "      <td>Especialista en marketing</td>\n",
       "      <td>Gestor de redes sociales buscado para un puest...</td>\n",
       "      <td>marketing</td>\n",
       "      <td>2024-01-01</td>\n",
       "    </tr>\n",
       "  </tbody>\n",
       "</table>\n",
       "</div>"
      ],
      "text/plain": [
       "                      titulo  \\\n",
       "0        Gestor/a de riesgos   \n",
       "1                 Controller   \n",
       "2      Preparador/a físico/a   \n",
       "3      Preparador/a físico/a   \n",
       "4  Especialista en marketing   \n",
       "\n",
       "                                         descripcion  categoria  \\\n",
       "0  Controller buscado para un puesto estable en e...   finanzas   \n",
       "1  Contable buscado para un puesto estable en el ...   finanzas   \n",
       "2  Técnico/a de rendimiento buscado para un puest...   deportes   \n",
       "3  Entrenador/a buscado para un puesto estable en...   deportes   \n",
       "4  Gestor de redes sociales buscado para un puest...  marketing   \n",
       "\n",
       "  fecha_publicacion  \n",
       "0        2023-06-07  \n",
       "1        2023-08-13  \n",
       "2        2024-08-14  \n",
       "3        2024-11-07  \n",
       "4        2024-01-01  "
      ]
     },
     "execution_count": 14,
     "metadata": {},
     "output_type": "execute_result"
    }
   ],
   "source": [
    "df.head()"
   ]
  },
  {
   "cell_type": "code",
   "execution_count": 15,
   "id": "cf684734",
   "metadata": {},
   "outputs": [],
   "source": [
    "df = df.sort_values(by=\"fecha_publicacion\", ascending=True)"
   ]
  },
  {
   "cell_type": "code",
   "execution_count": 16,
   "id": "5e7aa71e",
   "metadata": {},
   "outputs": [],
   "source": [
    "df = df.reset_index().drop(columns=[\"index\"])"
   ]
  },
  {
   "cell_type": "code",
   "execution_count": 17,
   "id": "3d71176e",
   "metadata": {},
   "outputs": [
    {
     "data": {
      "text/html": [
       "<div>\n",
       "<style scoped>\n",
       "    .dataframe tbody tr th:only-of-type {\n",
       "        vertical-align: middle;\n",
       "    }\n",
       "\n",
       "    .dataframe tbody tr th {\n",
       "        vertical-align: top;\n",
       "    }\n",
       "\n",
       "    .dataframe thead th {\n",
       "        text-align: right;\n",
       "    }\n",
       "</style>\n",
       "<table border=\"1\" class=\"dataframe\">\n",
       "  <thead>\n",
       "    <tr style=\"text-align: right;\">\n",
       "      <th></th>\n",
       "      <th>titulo</th>\n",
       "      <th>descripcion</th>\n",
       "      <th>categoria</th>\n",
       "      <th>fecha_publicacion</th>\n",
       "    </tr>\n",
       "  </thead>\n",
       "  <tbody>\n",
       "    <tr>\n",
       "      <th>0</th>\n",
       "      <td>Asesor/a fiscal</td>\n",
       "      <td>Analista financiero/a buscado para un puesto e...</td>\n",
       "      <td>finanzas</td>\n",
       "      <td>2023-01-01</td>\n",
       "    </tr>\n",
       "    <tr>\n",
       "      <th>1</th>\n",
       "      <td>Técnico/a de rendimiento</td>\n",
       "      <td>Preparador/a físico/a buscado para un puesto e...</td>\n",
       "      <td>deportes</td>\n",
       "      <td>2023-01-01</td>\n",
       "    </tr>\n",
       "    <tr>\n",
       "      <th>2</th>\n",
       "      <td>Técnico/a de rendimiento</td>\n",
       "      <td>Técnico/a de rendimiento buscado para un puest...</td>\n",
       "      <td>deportes</td>\n",
       "      <td>2023-01-01</td>\n",
       "    </tr>\n",
       "    <tr>\n",
       "      <th>3</th>\n",
       "      <td>Especialista en marketing</td>\n",
       "      <td>Brand manager buscado para un puesto estable e...</td>\n",
       "      <td>marketing</td>\n",
       "      <td>2023-01-01</td>\n",
       "    </tr>\n",
       "    <tr>\n",
       "      <th>4</th>\n",
       "      <td>Procurador/a</td>\n",
       "      <td>Secretario/a legal buscado para un puesto esta...</td>\n",
       "      <td>derecho</td>\n",
       "      <td>2023-01-01</td>\n",
       "    </tr>\n",
       "  </tbody>\n",
       "</table>\n",
       "</div>"
      ],
      "text/plain": [
       "                      titulo  \\\n",
       "0            Asesor/a fiscal   \n",
       "1   Técnico/a de rendimiento   \n",
       "2   Técnico/a de rendimiento   \n",
       "3  Especialista en marketing   \n",
       "4               Procurador/a   \n",
       "\n",
       "                                         descripcion  categoria  \\\n",
       "0  Analista financiero/a buscado para un puesto e...   finanzas   \n",
       "1  Preparador/a físico/a buscado para un puesto e...   deportes   \n",
       "2  Técnico/a de rendimiento buscado para un puest...   deportes   \n",
       "3  Brand manager buscado para un puesto estable e...  marketing   \n",
       "4  Secretario/a legal buscado para un puesto esta...    derecho   \n",
       "\n",
       "  fecha_publicacion  \n",
       "0        2023-01-01  \n",
       "1        2023-01-01  \n",
       "2        2023-01-01  \n",
       "3        2023-01-01  \n",
       "4        2023-01-01  "
      ]
     },
     "execution_count": 17,
     "metadata": {},
     "output_type": "execute_result"
    }
   ],
   "source": [
    "df.head()"
   ]
  },
  {
   "cell_type": "code",
   "execution_count": 18,
   "id": "146e51c8",
   "metadata": {},
   "outputs": [
    {
     "data": {
      "text/plain": [
       "categoria\n",
       "tecnologia    2100\n",
       "finanzas      1900\n",
       "deportes      1800\n",
       "salud         1700\n",
       "hosteleria    1400\n",
       "derecho       1400\n",
       "marketing      850\n",
       "educacion      850\n",
       "Name: count, dtype: int64"
      ]
     },
     "execution_count": 18,
     "metadata": {},
     "output_type": "execute_result"
    }
   ],
   "source": [
    "df[\"categoria\"].value_counts()"
   ]
  },
  {
   "cell_type": "code",
   "execution_count": 19,
   "id": "4734bee9",
   "metadata": {},
   "outputs": [],
   "source": [
    "df[\"text\"] = df[\"titulo\"]+\". \" +df[\"descripcion\"]"
   ]
  },
  {
   "cell_type": "code",
   "execution_count": 20,
   "id": "ec8c4caf",
   "metadata": {},
   "outputs": [],
   "source": [
    "df = df.drop(columns=[\"descripcion\", \"titulo\"])"
   ]
  },
  {
   "cell_type": "code",
   "execution_count": 21,
   "id": "98e9570f",
   "metadata": {},
   "outputs": [],
   "source": [
    "df = df.drop(columns=[\"fecha_publicacion\"])"
   ]
  },
  {
   "cell_type": "code",
   "execution_count": 22,
   "id": "4fc31201",
   "metadata": {},
   "outputs": [],
   "source": [
    "data_stream = ((row.drop(\"categoria\"), row[\"categoria\"]) for _,row in df.iterrows())"
   ]
  },
  {
   "cell_type": "code",
   "execution_count": 23,
   "id": "a27d4ae3",
   "metadata": {},
   "outputs": [],
   "source": [
    "model = Pipeline(\n",
    "    (\"tfidf\", TFIDF(on=\"text\", lowercase=True, normalize=True)),\n",
    "    (\"nb\", MultinomialNB()),\n",
    ")\n",
    "metric = metrics.Accuracy()"
   ]
  },
  {
   "cell_type": "code",
   "execution_count": 24,
   "id": "08156e45",
   "metadata": {},
   "outputs": [
    {
     "name": "stdout",
     "output_type": "stream",
     "text": [
      "[500] Accuracy: 91.38%\n",
      "[1,000] Accuracy: 95.70%\n",
      "[1,500] Accuracy: 97.13%\n",
      "[2,000] Accuracy: 97.85%\n",
      "[2,500] Accuracy: 98.28%\n",
      "[3,000] Accuracy: 98.57%\n",
      "[3,500] Accuracy: 98.77%\n",
      "[4,000] Accuracy: 98.92%\n",
      "[4,500] Accuracy: 99.04%\n",
      "[5,000] Accuracy: 99.14%\n",
      "[5,500] Accuracy: 99.22%\n",
      "[6,000] Accuracy: 99.28%\n",
      "[6,500] Accuracy: 99.34%\n",
      "[7,000] Accuracy: 99.39%\n",
      "[7,500] Accuracy: 99.43%\n",
      "[8,000] Accuracy: 99.46%\n",
      "[8,500] Accuracy: 99.49%\n",
      "[9,000] Accuracy: 99.52%\n",
      "[9,500] Accuracy: 99.55%\n",
      "[10,000] Accuracy: 99.57%\n",
      "[10,500] Accuracy: 99.59%\n",
      "[11,000] Accuracy: 99.61%\n",
      "[11,500] Accuracy: 99.63%\n",
      "[12,000] Accuracy: 99.64%\n",
      "Prequential: Accuracy=Accuracy: 99.64%\n"
     ]
    }
   ],
   "source": [
    "metric = metrics.Accuracy()\n",
    "score = evaluate.progressive_val_score(data_stream, model, metric,print_every=500)\n",
    "print(f\"Prequential: Accuracy={score}\")"
   ]
  }
 ],
 "metadata": {
  "kernelspec": {
   "display_name": "py312",
   "language": "python",
   "name": "python3"
  },
  "language_info": {
   "codemirror_mode": {
    "name": "ipython",
    "version": 3
   },
   "file_extension": ".py",
   "mimetype": "text/x-python",
   "name": "python",
   "nbconvert_exporter": "python",
   "pygments_lexer": "ipython3",
   "version": "3.12.11"
  }
 },
 "nbformat": 4,
 "nbformat_minor": 5
}
