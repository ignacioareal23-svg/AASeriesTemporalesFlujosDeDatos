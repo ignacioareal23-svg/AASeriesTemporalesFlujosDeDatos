{
 "cells": [
  {
   "cell_type": "markdown",
   "id": "8ab3cd9e",
   "metadata": {},
   "source": [
    "# Practica final flujos de datos"
   ]
  },
  {
   "cell_type": "markdown",
   "id": "e4b7ef74",
   "metadata": {},
   "source": [
    "# Introducción\n",
    "\n",
    "En esta práctica trabajaremos con distintas fuentes de datos de carácter socioeconómico, principalmente relacionados con el empleo, los salarios y el mercado inmobiliario. Aunque los conjuntos utilizados provienen de archivos CSV estáticos, puede imaginarse fácilmente un escenario real en el que estos datos lleguen de manera continua en forma de flujo. Por ejemplo, los registros de empleo y salarios podrían obtenerse en tiempo real a partir de una API que recoja ofertas publicadas en portales como Indeed o InfoJobs, mientras que los valores de viviendas podrían provenir de servicios de inmobiliarias que actualizan sus precios constantemente. De este modo, el uso de clasificadores y modelos incrementales sobre los datos simulados nos permite aproximarnos a un contexto más realista, donde las decisiones deben adaptarse dinámicamente a información que evoluciona con el tiempo."
   ]
  },
  {
   "cell_type": "code",
   "execution_count": 3,
   "id": "38860813",
   "metadata": {},
   "outputs": [
    {
     "name": "stdout",
     "output_type": "stream",
     "text": [
      "Defaulting to user installation because normal site-packages is not writeable\n",
      "Requirement already satisfied: river in c:\\users\\nacho\\appdata\\local\\packages\\pythonsoftwarefoundation.python.3.12_qbz5n2kfra8p0\\localcache\\local-packages\\python312\\site-packages (0.22.0)\n",
      "Requirement already satisfied: numpy>=1.23.0 in c:\\users\\nacho\\appdata\\local\\packages\\pythonsoftwarefoundation.python.3.12_qbz5n2kfra8p0\\localcache\\local-packages\\python312\\site-packages (from river) (1.26.4)\n",
      "Requirement already satisfied: pandas<3.0.0,>=2.2.3 in c:\\users\\nacho\\appdata\\local\\packages\\pythonsoftwarefoundation.python.3.12_qbz5n2kfra8p0\\localcache\\local-packages\\python312\\site-packages (from river) (2.2.3)\n",
      "Requirement already satisfied: scipy<2.0.0,>=1.14.1 in c:\\users\\nacho\\appdata\\local\\packages\\pythonsoftwarefoundation.python.3.12_qbz5n2kfra8p0\\localcache\\local-packages\\python312\\site-packages (from river) (1.16.2)\n",
      "Requirement already satisfied: python-dateutil>=2.8.2 in c:\\users\\nacho\\appdata\\local\\packages\\pythonsoftwarefoundation.python.3.12_qbz5n2kfra8p0\\localcache\\local-packages\\python312\\site-packages (from pandas<3.0.0,>=2.2.3->river) (2.9.0.post0)\n",
      "Requirement already satisfied: pytz>=2020.1 in c:\\users\\nacho\\appdata\\local\\packages\\pythonsoftwarefoundation.python.3.12_qbz5n2kfra8p0\\localcache\\local-packages\\python312\\site-packages (from pandas<3.0.0,>=2.2.3->river) (2025.1)\n",
      "Requirement already satisfied: tzdata>=2022.7 in c:\\users\\nacho\\appdata\\local\\packages\\pythonsoftwarefoundation.python.3.12_qbz5n2kfra8p0\\localcache\\local-packages\\python312\\site-packages (from pandas<3.0.0,>=2.2.3->river) (2025.1)\n",
      "Requirement already satisfied: six>=1.5 in c:\\users\\nacho\\appdata\\local\\packages\\pythonsoftwarefoundation.python.3.12_qbz5n2kfra8p0\\localcache\\local-packages\\python312\\site-packages (from python-dateutil>=2.8.2->pandas<3.0.0,>=2.2.3->river) (1.16.0)\n"
     ]
    },
    {
     "name": "stderr",
     "output_type": "stream",
     "text": [
      "WARNING: Ignoring invalid distribution ~cipy (C:\\Users\\nacho\\AppData\\Local\\Packages\\PythonSoftwareFoundation.Python.3.12_qbz5n2kfra8p0\\LocalCache\\local-packages\\Python312\\site-packages)\n",
      "WARNING: Ignoring invalid distribution ~cipy (C:\\Users\\nacho\\AppData\\Local\\Packages\\PythonSoftwareFoundation.Python.3.12_qbz5n2kfra8p0\\LocalCache\\local-packages\\Python312\\site-packages)\n",
      "WARNING: Ignoring invalid distribution ~cipy (C:\\Users\\nacho\\AppData\\Local\\Packages\\PythonSoftwareFoundation.Python.3.12_qbz5n2kfra8p0\\LocalCache\\local-packages\\Python312\\site-packages)\n"
     ]
    }
   ],
   "source": [
    "!pip install river"
   ]
  },
  {
   "cell_type": "markdown",
   "id": "9278ed95",
   "metadata": {},
   "source": [
    "# Imports"
   ]
  },
  {
   "cell_type": "code",
   "execution_count": 4,
   "id": "7e7cd794",
   "metadata": {},
   "outputs": [],
   "source": [
    "import time\n",
    "import pandas as pd\n",
    "from river import stream, tree, metrics, evaluate, drift, naive_bayes,preprocessing,ensemble\n",
    "from sklearn.model_selection import train_test_split\n",
    "from sklearn.tree import DecisionTreeClassifier\n",
    "from sklearn.metrics import accuracy_score\n",
    "from river import datasets\n",
    "from river import tree\n",
    "from river import metrics\n",
    "from river import evaluate, stream\n",
    "import os\n",
    "from river import feature_selection\n",
    "from river import preprocessing\n",
    "import pandas as pd\n",
    "import numpy as np\n",
    "import matplotlib\n",
    "import matplotlib.pyplot as plt\n",
    "import seaborn as sns\n",
    "import tqdm\n",
    "import random\n",
    "from river import forest\n",
    "from river import ensemble\n",
    "from river import linear_model\n",
    "from river import feature_selection"
   ]
  },
  {
   "cell_type": "code",
   "execution_count": 5,
   "id": "f6219a8c",
   "metadata": {},
   "outputs": [],
   "source": [
    "random.seed(42)"
   ]
  },
  {
   "cell_type": "markdown",
   "id": "3f0fc5b9",
   "metadata": {},
   "source": [
    "# 1.Clasificación\n",
    "Para nuestro problema de clasificación hemos escogido el conjunto de datos Adult del UCI Machine Learning Repository, el cual recoge información demográfica y laboral de personas (edad, nivel educativo, tipo de empleo, horas de trabajo, etc.) junto con una etiqueta binaria que indica si sus ingresos anuales superan los 50 000 USD."
   ]
  },
  {
   "cell_type": "markdown",
   "id": "a1ef0a67",
   "metadata": {},
   "source": [
    "\n",
    "# Objetivo\n",
    "Aunque se trata de un dataset estático, presenta varias características que lo hacen ideal para simular un flujo de datos:\n",
    "\n",
    "Naturaleza temporal implícita: los registros reflejan una realidad socioeconómica que, en la práctica, puede evolucionar a lo largo del tiempo.\n",
    "\n",
    "Tamaño moderado pero suficiente: permite iterar muchas instancias de forma eficiente, como si fueran llegadas sucesivas de información de nuevos individuos.\n",
    "\n",
    "Problema de clasificación binaria realista: predecir si una persona supera un umbral de ingresos es un caso de uso frecuente en sistemas de recomendación de créditos, análisis de riesgo o planificación social.\n",
    "\n",
    "El objetivo de esta parte de nuestro trabajo consiste en replicar condiciones cercanas a un sistema en producción que recibe datos demográficos en tiempo real, facilitando la transición a un entorno real de big data."
   ]
  },
  {
   "cell_type": "markdown",
   "id": "3993d783",
   "metadata": {},
   "source": [
    "### 1.1 Carga del csv y vista preliminar"
   ]
  },
  {
   "cell_type": "code",
   "execution_count": 13,
   "id": "20f910d8",
   "metadata": {},
   "outputs": [
    {
     "data": {
      "text/html": [
       "<div>\n",
       "<style scoped>\n",
       "    .dataframe tbody tr th:only-of-type {\n",
       "        vertical-align: middle;\n",
       "    }\n",
       "\n",
       "    .dataframe tbody tr th {\n",
       "        vertical-align: top;\n",
       "    }\n",
       "\n",
       "    .dataframe thead th {\n",
       "        text-align: right;\n",
       "    }\n",
       "</style>\n",
       "<table border=\"1\" class=\"dataframe\">\n",
       "  <thead>\n",
       "    <tr style=\"text-align: right;\">\n",
       "      <th></th>\n",
       "      <th>age</th>\n",
       "      <th>workclass</th>\n",
       "      <th>fnlwgt</th>\n",
       "      <th>education</th>\n",
       "      <th>education.num</th>\n",
       "      <th>marital.status</th>\n",
       "      <th>occupation</th>\n",
       "      <th>relationship</th>\n",
       "      <th>race</th>\n",
       "      <th>sex</th>\n",
       "      <th>capital.gain</th>\n",
       "      <th>capital.loss</th>\n",
       "      <th>hours.per.week</th>\n",
       "      <th>native.country</th>\n",
       "      <th>income</th>\n",
       "    </tr>\n",
       "  </thead>\n",
       "  <tbody>\n",
       "    <tr>\n",
       "      <th>0</th>\n",
       "      <td>90</td>\n",
       "      <td>?</td>\n",
       "      <td>77053</td>\n",
       "      <td>HS-grad</td>\n",
       "      <td>9</td>\n",
       "      <td>Widowed</td>\n",
       "      <td>?</td>\n",
       "      <td>Not-in-family</td>\n",
       "      <td>White</td>\n",
       "      <td>Female</td>\n",
       "      <td>0</td>\n",
       "      <td>4356</td>\n",
       "      <td>40</td>\n",
       "      <td>United-States</td>\n",
       "      <td>&lt;=50K</td>\n",
       "    </tr>\n",
       "    <tr>\n",
       "      <th>1</th>\n",
       "      <td>82</td>\n",
       "      <td>Private</td>\n",
       "      <td>132870</td>\n",
       "      <td>HS-grad</td>\n",
       "      <td>9</td>\n",
       "      <td>Widowed</td>\n",
       "      <td>Exec-managerial</td>\n",
       "      <td>Not-in-family</td>\n",
       "      <td>White</td>\n",
       "      <td>Female</td>\n",
       "      <td>0</td>\n",
       "      <td>4356</td>\n",
       "      <td>18</td>\n",
       "      <td>United-States</td>\n",
       "      <td>&lt;=50K</td>\n",
       "    </tr>\n",
       "    <tr>\n",
       "      <th>2</th>\n",
       "      <td>66</td>\n",
       "      <td>?</td>\n",
       "      <td>186061</td>\n",
       "      <td>Some-college</td>\n",
       "      <td>10</td>\n",
       "      <td>Widowed</td>\n",
       "      <td>?</td>\n",
       "      <td>Unmarried</td>\n",
       "      <td>Black</td>\n",
       "      <td>Female</td>\n",
       "      <td>0</td>\n",
       "      <td>4356</td>\n",
       "      <td>40</td>\n",
       "      <td>United-States</td>\n",
       "      <td>&lt;=50K</td>\n",
       "    </tr>\n",
       "    <tr>\n",
       "      <th>3</th>\n",
       "      <td>54</td>\n",
       "      <td>Private</td>\n",
       "      <td>140359</td>\n",
       "      <td>7th-8th</td>\n",
       "      <td>4</td>\n",
       "      <td>Divorced</td>\n",
       "      <td>Machine-op-inspct</td>\n",
       "      <td>Unmarried</td>\n",
       "      <td>White</td>\n",
       "      <td>Female</td>\n",
       "      <td>0</td>\n",
       "      <td>3900</td>\n",
       "      <td>40</td>\n",
       "      <td>United-States</td>\n",
       "      <td>&lt;=50K</td>\n",
       "    </tr>\n",
       "    <tr>\n",
       "      <th>4</th>\n",
       "      <td>41</td>\n",
       "      <td>Private</td>\n",
       "      <td>264663</td>\n",
       "      <td>Some-college</td>\n",
       "      <td>10</td>\n",
       "      <td>Separated</td>\n",
       "      <td>Prof-specialty</td>\n",
       "      <td>Own-child</td>\n",
       "      <td>White</td>\n",
       "      <td>Female</td>\n",
       "      <td>0</td>\n",
       "      <td>3900</td>\n",
       "      <td>40</td>\n",
       "      <td>United-States</td>\n",
       "      <td>&lt;=50K</td>\n",
       "    </tr>\n",
       "  </tbody>\n",
       "</table>\n",
       "</div>"
      ],
      "text/plain": [
       "   age workclass  fnlwgt     education  education.num marital.status  \\\n",
       "0   90         ?   77053       HS-grad              9        Widowed   \n",
       "1   82   Private  132870       HS-grad              9        Widowed   \n",
       "2   66         ?  186061  Some-college             10        Widowed   \n",
       "3   54   Private  140359       7th-8th              4       Divorced   \n",
       "4   41   Private  264663  Some-college             10      Separated   \n",
       "\n",
       "          occupation   relationship   race     sex  capital.gain  \\\n",
       "0                  ?  Not-in-family  White  Female             0   \n",
       "1    Exec-managerial  Not-in-family  White  Female             0   \n",
       "2                  ?      Unmarried  Black  Female             0   \n",
       "3  Machine-op-inspct      Unmarried  White  Female             0   \n",
       "4     Prof-specialty      Own-child  White  Female             0   \n",
       "\n",
       "   capital.loss  hours.per.week native.country income  \n",
       "0          4356              40  United-States  <=50K  \n",
       "1          4356              18  United-States  <=50K  \n",
       "2          4356              40  United-States  <=50K  \n",
       "3          3900              40  United-States  <=50K  \n",
       "4          3900              40  United-States  <=50K  "
      ]
     },
     "execution_count": 13,
     "metadata": {},
     "output_type": "execute_result"
    }
   ],
   "source": [
    "csv_file = \"data/adult.csv\"\n",
    "\n",
    "# Carga inicial solo para inspección\n",
    "df = pd.read_csv(csv_file)\n",
    "df.head()"
   ]
  },
  {
   "cell_type": "markdown",
   "id": "d82e8e44",
   "metadata": {},
   "source": [
    "### 1.2 Simular flujo de datos:\n",
    "\n",
    "Transformamos el CSV en un generador que emite cada fila como un registro de flujo.\n",
    "La columna `income` se convierte a binaria (1 si >50K, 0 en caso contrario)."
   ]
  },
  {
   "cell_type": "code",
   "execution_count": null,
   "id": "08c00a9c",
   "metadata": {},
   "outputs": [],
   "source": [
    "data_stream = stream.iter_csv(\n",
    "    csv_file,\n",
    "    target=\"income\",\n",
    "    converters={\n",
    "        \"income\": lambda x: 1 if \">50K\" in str(x) else 0\n",
    "    }\n",
    ")"
   ]
  },
  {
   "cell_type": "markdown",
   "id": "c15980fe",
   "metadata": {},
   "source": [
    "# Desarrollo\n",
    "\n",
    "### 1.3 Función para elegir el modelo"
   ]
  },
  {
   "cell_type": "code",
   "execution_count": null,
   "id": "822a8465",
   "metadata": {},
   "outputs": [],
   "source": [
    "def elegir_modelo(nombre_modelo: str):\n",
    "    nombre = nombre_modelo.lower()\n",
    "    if nombre == \"hdt\":\n",
    "        return tree.HoeffdingTreeClassifier()\n",
    "    elif nombre == \"hat\":\n",
    "        return tree.HoeffdingAdaptiveTreeClassifier() # rolling para ver el accuracy en las últimas n instancias\n",
    "    elif nombre == \"efdt\":\n",
    "        return tree.ExtremelyFastDecisionTreeClassifier()\n",
    "    else:\n",
    "        raise ValueError(\"Modelo no reconocido. Usa: 'HDT', 'HAT' o 'EFDT'.\")"
   ]
  },
  {
   "cell_type": "markdown",
   "id": "ccc89109",
   "metadata": {},
   "source": [
    "### 1.4 Función para elegir el detector de drift"
   ]
  },
  {
   "cell_type": "code",
   "execution_count": null,
   "id": "4de657bd",
   "metadata": {},
   "outputs": [],
   "source": [
    "def elegir_detector(nombre: str):\n",
    "    if nombre == \"DDM\":\n",
    "        return drift.binary.DDM()\n",
    "    elif nombre == \"ADWIN\":\n",
    "        return drift.ADWIN()\n",
    "    elif nombre == \"HDDM_W\":\n",
    "        return drift.binary.HDDM_W()\n",
    "    elif nombre == \"HDDM_A\":\n",
    "        return drift.binary.HDDM_A()\n",
    "    elif nombre == \"KSWIN\":\n",
    "        return drift.KSWIN(alpha=0.01, window_size=200, stat_size=50) #AJUSTABLE\n",
    "    elif nombre ==\"PH\":\n",
    "       return drift.PageHinkley()\n",
    "    else:\n",
    "        raise ValueError(\n",
    "            \"Detector no reconocido. Usa: 'DDM', 'ADWIN', 'HDDM_W', 'KSWIN' o 'PH'.\"\n",
    "        )\n"
   ]
  },
  {
   "cell_type": "markdown",
   "id": "d91050b7",
   "metadata": {},
   "source": [
    "### 1.5 Evaluación con evaluación progresiva\n",
    "\n",
    "`evaluate.progressive_val_score` realiza el ciclo test-then-train automáticamente:\n",
    "1. Predice la instancia entrante.\n",
    "2. Actualiza la métrica.\n",
    "3. Entrena el modelo."
   ]
  },
  {
   "cell_type": "code",
   "execution_count": null,
   "id": "784168bb",
   "metadata": {},
   "outputs": [],
   "source": [
    "def evaluar_modelo(data, modelo_nombre):\n",
    "    modelo = elegir_modelo(modelo_nombre)\n",
    "    metricas = metrics.Accuracy()\n",
    "    print(f\"*** Evaluación con modelo: {modelo_nombre.upper()} ***\\n\")\n",
    "    resultado = evaluate.progressive_val_score(\n",
    "        dataset=data,\n",
    "        model=modelo,\n",
    "        metric=metricas,\n",
    "        print_every=1000  # imprime cada 1000 instancias\n",
    "    )\n",
    "    print(f\"Accuracy final: {resultado.get():.4f}\")\n",
    "    return resultado.get()"
   ]
  },
  {
   "cell_type": "markdown",
   "id": "699a925c",
   "metadata": {},
   "source": [
    "### 1.6 Evaluación con detección de drift\n",
    "\n",
    "Cuando se detecta un drift, el modelo entrenado con datos anteriores deja de representar la realidad actual, por lo que en el código reinicio el modelo cada vez que detecta un concept drift. Es cierto que, justo después de reiniciarlo, el modelo tiene pocos ejemplos y su rendimiento baja. Pero este tiempo de bajo rendimiento es preferible a mantener un modelo que predice sistemáticamente mal debido a un cambio de distribución y en el contexto de nuestro sistema no necesitamos tener un modelo preparado en todo momento, sino que es preferible asegurarnos un mejor modelo a la larga. Más adelante, con el uso de ensembles este problema se solucionaría."
   ]
  },
  {
   "cell_type": "code",
   "execution_count": null,
   "id": "66036dfe",
   "metadata": {},
   "outputs": [],
   "source": [
    "def evaluar_modelo_con_drift(data_stream, modelo_nombre, detector_nombre, delay):\n",
    "\n",
    "    modelo = elegir_modelo(modelo_nombre)\n",
    "    detector = elegir_detector(detector_nombre)\n",
    "\n",
    "    acc = metrics.Accuracy()\n",
    "\n",
    "    print(f\"*** Evaluación con modelo {modelo_nombre.upper()} \"\n",
    "          f\"y detector {detector_nombre.upper()} ***\\n\")\n",
    "\n",
    "    for i, (X, y) in enumerate(data_stream, start=1):\n",
    "        \n",
    "        y_pred = modelo.predict_one(X)\n",
    "        \n",
    "        acc.update(y, y_pred)\n",
    "\n",
    "        # Actualizar detector con error (1 si fallo, 0 si acierto)\n",
    "        detector.update(int(y_pred != y))\n",
    "\n",
    "        if detector.drift_detected:\n",
    "            print(f\"[Drift detectado en instancia {i}] \"\n",
    "                    f\"Accuracy acumulada antes de reinicio: {acc.get():.4f}\")\n",
    "            # Reiniciar modelo y detector\n",
    "            modelo = elegir_modelo(modelo_nombre)\n",
    "            detector = elegir_detector(detector_nombre)\n",
    "\n",
    "        modelo.learn_one(X, y)\n",
    "\n",
    "        if i % 1000 == 0:\n",
    "            print(f\"Instancia {i} | Accuracy: {acc.get():.4f}\")\n",
    "\n",
    "        if delay > 0:\n",
    "            time.sleep(delay)\n",
    "\n",
    "    print(f\"\\nAccuracy final: {acc.get():.4f}\")\n",
    "    return acc.get()\n"
   ]
  },
  {
   "cell_type": "markdown",
   "id": "941b077e",
   "metadata": {},
   "source": [
    "### 1.7 Evaluación con HDT"
   ]
  },
  {
   "cell_type": "code",
   "execution_count": null,
   "id": "86b87103",
   "metadata": {},
   "outputs": [
    {
     "name": "stdout",
     "output_type": "stream",
     "text": [
      "*** Evaluación con modelo: HDT ***\n",
      "\n",
      "[1,000] Accuracy: 89.89%\n",
      "[2,000] Accuracy: 91.60%\n",
      "[3,000] Accuracy: 91.93%\n",
      "[4,000] Accuracy: 91.65%\n",
      "[5,000] Accuracy: 89.88%\n",
      "[6,000] Accuracy: 88.16%\n",
      "[7,000] Accuracy: 87.04%\n",
      "[8,000] Accuracy: 86.37%\n",
      "[9,000] Accuracy: 85.62%\n",
      "[10,000] Accuracy: 84.68%\n",
      "[11,000] Accuracy: 84.42%\n",
      "[12,000] Accuracy: 84.18%\n",
      "[13,000] Accuracy: 83.87%\n",
      "[14,000] Accuracy: 83.53%\n",
      "[15,000] Accuracy: 83.38%\n",
      "[16,000] Accuracy: 83.27%\n",
      "[17,000] Accuracy: 83.26%\n",
      "[18,000] Accuracy: 82.95%\n",
      "[19,000] Accuracy: 82.66%\n",
      "[20,000] Accuracy: 82.58%\n",
      "[21,000] Accuracy: 82.60%\n",
      "[22,000] Accuracy: 82.62%\n",
      "[23,000] Accuracy: 82.49%\n",
      "[24,000] Accuracy: 82.42%\n",
      "[25,000] Accuracy: 82.31%\n",
      "[26,000] Accuracy: 82.21%\n",
      "[27,000] Accuracy: 82.13%\n",
      "[28,000] Accuracy: 82.11%\n",
      "[29,000] Accuracy: 82.09%\n",
      "[30,000] Accuracy: 82.06%\n",
      "[31,000] Accuracy: 82.05%\n",
      "[32,000] Accuracy: 81.95%\n",
      "[32,561] Accuracy: 81.94%\n",
      "Accuracy final: 0.8194\n"
     ]
    },
    {
     "data": {
      "text/plain": [
       "0.8194103194103194"
      ]
     },
     "execution_count": 9,
     "metadata": {},
     "output_type": "execute_result"
    }
   ],
   "source": [
    "data_stream = stream.iter_csv(\n",
    "    csv_file,\n",
    "    target=\"income\",\n",
    "    converters={\"income\": lambda x: 1 if \">50K\" in str(x) else 0}\n",
    ")\n",
    "evaluar_modelo(data_stream, modelo_nombre=\"HDT\")"
   ]
  },
  {
   "cell_type": "markdown",
   "id": "7788d53b",
   "metadata": {},
   "source": [
    "Se obtiene un Accuracy =~ 0.82 sin detección de drift."
   ]
  },
  {
   "cell_type": "markdown",
   "id": "730440fe",
   "metadata": {},
   "source": [
    "### 1.8 Evaluación HAT"
   ]
  },
  {
   "cell_type": "code",
   "execution_count": null,
   "id": "9f53e9a8",
   "metadata": {},
   "outputs": [
    {
     "name": "stdout",
     "output_type": "stream",
     "text": [
      "*** Evaluación con modelo: HAT ***\n",
      "\n",
      "[1,000] Accuracy: 84.18%\n",
      "[2,000] Accuracy: 88.79%\n",
      "[3,000] Accuracy: 91.90%\n",
      "[4,000] Accuracy: 92.20%\n",
      "[5,000] Accuracy: 90.28%\n",
      "[6,000] Accuracy: 88.50%\n",
      "[7,000] Accuracy: 87.08%\n",
      "[8,000] Accuracy: 83.50%\n",
      "[9,000] Accuracy: 78.21%\n",
      "[10,000] Accuracy: 77.12%\n",
      "[11,000] Accuracy: 72.46%\n",
      "[12,000] Accuracy: 72.95%\n",
      "[13,000] Accuracy: 73.61%\n",
      "[14,000] Accuracy: 74.10%\n",
      "[15,000] Accuracy: 74.50%\n",
      "[16,000] Accuracy: 74.89%\n",
      "[17,000] Accuracy: 75.31%\n",
      "[18,000] Accuracy: 75.47%\n",
      "[19,000] Accuracy: 75.75%\n",
      "[20,000] Accuracy: 75.94%\n",
      "[21,000] Accuracy: 76.20%\n",
      "[22,000] Accuracy: 76.33%\n",
      "[23,000] Accuracy: 76.42%\n",
      "[24,000] Accuracy: 76.59%\n",
      "[25,000] Accuracy: 76.72%\n",
      "[26,000] Accuracy: 76.78%\n",
      "[27,000] Accuracy: 76.82%\n",
      "[28,000] Accuracy: 76.90%\n",
      "[29,000] Accuracy: 77.05%\n",
      "[30,000] Accuracy: 77.12%\n",
      "[31,000] Accuracy: 77.22%\n",
      "[32,000] Accuracy: 77.16%\n",
      "[32,561] Accuracy: 77.19%\n",
      "Accuracy final: 0.7719\n"
     ]
    },
    {
     "data": {
      "text/plain": [
       "0.7718673218673219"
      ]
     },
     "execution_count": 10,
     "metadata": {},
     "output_type": "execute_result"
    }
   ],
   "source": [
    "data_stream = stream.iter_csv(\n",
    "    csv_file,\n",
    "    target=\"income\",\n",
    "    converters={\"income\": lambda x: 1 if \">50K\" in str(x) else 0}\n",
    ")\n",
    "evaluar_modelo(data_stream, modelo_nombre=\"HAT\")"
   ]
  },
  {
   "cell_type": "markdown",
   "id": "9b6a09f5",
   "metadata": {},
   "source": [
    "El rendimiento de Hoeffding Adaptive Tree (HAT) =~ 0.79 empeora ligeramente respecto a HDT, esto podría deberse a su mecanismo de detección de drift y adaptación que introduce complejidad y posibles reseteos innecesarios."
   ]
  },
  {
   "cell_type": "markdown",
   "id": "690d833c",
   "metadata": {},
   "source": [
    "### 1.9 Evaluación HDT con detección de drift\n",
    "\n",
    "Como HDT no es adaptativo requiere el uso de detectores de concept drift para reiniciarse en caso de que exista.\n",
    "\n",
    "He utilizado para este caso 'DDM', 'ADWIN', 'HDDM_W'.\n",
    "DDM por ser simple al estar basado en la probabilidad de error.\n",
    "ADWIN al utilizar una ventana deslizante detecta tanto cambios bruscos como graduales.\n",
    "Y HDDM_W por ser más ligero y eficiente que ADWIN pero más robusto que DDM.\n"
   ]
  },
  {
   "cell_type": "code",
   "execution_count": null,
   "id": "b31308ad",
   "metadata": {},
   "outputs": [
    {
     "name": "stdout",
     "output_type": "stream",
     "text": [
      "*** Evaluación con modelo HDT y detector DDM ***\n",
      "\n",
      "[Drift detectado en instancia 148] Accuracy acumulada antes de reinicio: 0.7162\n",
      "[Drift detectado en instancia 192] Accuracy acumulada antes de reinicio: 0.6875\n",
      "[Drift detectado en instancia 357] Accuracy acumulada antes de reinicio: 0.7591\n",
      "[Drift detectado en instancia 517] Accuracy acumulada antes de reinicio: 0.8317\n",
      "[Drift detectado en instancia 908] Accuracy acumulada antes de reinicio: 0.8535\n",
      "[Drift detectado en instancia 959] Accuracy acumulada antes de reinicio: 0.8561\n",
      "[Drift detectado en instancia 993] Accuracy acumulada antes de reinicio: 0.8580\n",
      "Instancia 1000 | Accuracy: 0.8590\n",
      "[Drift detectado en instancia 1342] Accuracy acumulada antes de reinicio: 0.8905\n",
      "[Drift detectado en instancia 1380] Accuracy acumulada antes de reinicio: 0.8899\n",
      "[Drift detectado en instancia 1536] Accuracy acumulada antes de reinicio: 0.8652\n",
      "[Drift detectado en instancia 1679] Accuracy acumulada antes de reinicio: 0.8761\n",
      "Instancia 2000 | Accuracy: 0.8910\n",
      "[Drift detectado en instancia 2246] Accuracy acumulada antes de reinicio: 0.9003\n",
      "[Drift detectado en instancia 2661] Accuracy acumulada antes de reinicio: 0.9136\n",
      "[Drift detectado en instancia 2922] Accuracy acumulada antes de reinicio: 0.9182\n",
      "[Drift detectado en instancia 2958] Accuracy acumulada antes de reinicio: 0.9182\n",
      "Instancia 3000 | Accuracy: 0.9137\n",
      "[Drift detectado en instancia 3111] Accuracy acumulada antes de reinicio: 0.9077\n",
      "[Drift detectado en instancia 3168] Accuracy acumulada antes de reinicio: 0.9091\n",
      "[Drift detectado en instancia 3307] Accuracy acumulada antes de reinicio: 0.8954\n",
      "[Drift detectado en instancia 3358] Accuracy acumulada antes de reinicio: 0.8931\n",
      "[Drift detectado en instancia 3663] Accuracy acumulada antes de reinicio: 0.9017\n",
      "[Drift detectado en instancia 3709] Accuracy acumulada antes de reinicio: 0.9027\n",
      "[Drift detectado en instancia 3766] Accuracy acumulada antes de reinicio: 0.9002\n",
      "Instancia 4000 | Accuracy: 0.9060\n",
      "[Drift detectado en instancia 4238] Accuracy acumulada antes de reinicio: 0.9110\n",
      "Instancia 5000 | Accuracy: 0.8948\n",
      "Instancia 6000 | Accuracy: 0.8783\n",
      "Instancia 7000 | Accuracy: 0.8676\n",
      "Instancia 8000 | Accuracy: 0.8609\n",
      "Instancia 9000 | Accuracy: 0.8537\n",
      "Instancia 10000 | Accuracy: 0.8445\n",
      "Instancia 11000 | Accuracy: 0.8421\n",
      "Instancia 12000 | Accuracy: 0.8399\n",
      "Instancia 13000 | Accuracy: 0.8369\n",
      "Instancia 14000 | Accuracy: 0.8337\n",
      "Instancia 15000 | Accuracy: 0.8323\n",
      "Instancia 16000 | Accuracy: 0.8313\n",
      "Instancia 17000 | Accuracy: 0.8312\n",
      "Instancia 18000 | Accuracy: 0.8283\n",
      "Instancia 19000 | Accuracy: 0.8254\n",
      "Instancia 20000 | Accuracy: 0.8246\n",
      "Instancia 21000 | Accuracy: 0.8250\n",
      "Instancia 22000 | Accuracy: 0.8251\n",
      "Instancia 23000 | Accuracy: 0.8239\n",
      "Instancia 24000 | Accuracy: 0.8232\n",
      "Instancia 25000 | Accuracy: 0.8222\n",
      "Instancia 26000 | Accuracy: 0.8212\n",
      "Instancia 27000 | Accuracy: 0.8205\n",
      "Instancia 28000 | Accuracy: 0.8203\n",
      "Instancia 29000 | Accuracy: 0.8201\n",
      "Instancia 30000 | Accuracy: 0.8198\n",
      "Instancia 31000 | Accuracy: 0.8198\n",
      "Instancia 32000 | Accuracy: 0.8188\n",
      "\n",
      "Accuracy final: 0.8187\n"
     ]
    },
    {
     "data": {
      "text/plain": [
       "0.8187094990940081"
      ]
     },
     "execution_count": 11,
     "metadata": {},
     "output_type": "execute_result"
    }
   ],
   "source": [
    "data_stream = stream.iter_csv(\n",
    "    csv_file,\n",
    "    target=\"income\",\n",
    "    converters={\"income\": lambda x: 1 if \">50K\" in str(x) else 0}\n",
    ")\n",
    "evaluar_modelo_con_drift(data_stream, modelo_nombre=\"HDT\", detector_nombre='DDM', delay=0.0)\n"
   ]
  },
  {
   "cell_type": "code",
   "execution_count": null,
   "id": "4f46766f",
   "metadata": {},
   "outputs": [
    {
     "name": "stdout",
     "output_type": "stream",
     "text": [
      "*** Evaluación con modelo HDT y detector ADWIN ***\n",
      "\n",
      "[Drift detectado en instancia 352] Accuracy acumulada antes de reinicio: 0.7642\n",
      "[Drift detectado en instancia 576] Accuracy acumulada antes de reinicio: 0.8160\n",
      "[Drift detectado en instancia 928] Accuracy acumulada antes de reinicio: 0.8394\n",
      "Instancia 1000 | Accuracy: 0.8310\n",
      "[Drift detectado en instancia 1120] Accuracy acumulada antes de reinicio: 0.8143\n",
      "[Drift detectado en instancia 1408] Accuracy acumulada antes de reinicio: 0.8317\n",
      "[Drift detectado en instancia 1568] Accuracy acumulada antes de reinicio: 0.8061\n",
      "Instancia 2000 | Accuracy: 0.8435\n",
      "[Drift detectado en instancia 2944] Accuracy acumulada antes de reinicio: 0.8808\n",
      "Instancia 3000 | Accuracy: 0.8760\n",
      "[Drift detectado en instancia 3136] Accuracy acumulada antes de reinicio: 0.8629\n",
      "[Drift detectado en instancia 3328] Accuracy acumulada antes de reinicio: 0.8486\n",
      "[Drift detectado en instancia 3552] Accuracy acumulada antes de reinicio: 0.8525\n",
      "Instancia 4000 | Accuracy: 0.8600\n",
      "[Drift detectado en instancia 4896] Accuracy acumulada antes de reinicio: 0.8552\n",
      "Instancia 5000 | Accuracy: 0.8536\n",
      "Instancia 6000 | Accuracy: 0.8440\n",
      "Instancia 7000 | Accuracy: 0.8381\n",
      "Instancia 8000 | Accuracy: 0.8363\n",
      "Instancia 9000 | Accuracy: 0.8337\n",
      "Instancia 10000 | Accuracy: 0.8308\n",
      "Instancia 11000 | Accuracy: 0.8293\n",
      "Instancia 12000 | Accuracy: 0.8277\n",
      "Instancia 13000 | Accuracy: 0.8268\n",
      "Instancia 14000 | Accuracy: 0.8255\n",
      "Instancia 15000 | Accuracy: 0.8257\n",
      "Instancia 16000 | Accuracy: 0.8261\n",
      "Instancia 17000 | Accuracy: 0.8276\n",
      "Instancia 18000 | Accuracy: 0.8279\n",
      "Instancia 19000 | Accuracy: 0.8282\n",
      "Instancia 20000 | Accuracy: 0.8292\n",
      "Instancia 21000 | Accuracy: 0.8295\n",
      "[Drift detectado en instancia 21056] Accuracy acumulada antes de reinicio: 0.8298\n",
      "Instancia 22000 | Accuracy: 0.8289\n",
      "Instancia 23000 | Accuracy: 0.8275\n",
      "Instancia 24000 | Accuracy: 0.8267\n",
      "Instancia 25000 | Accuracy: 0.8260\n",
      "Instancia 26000 | Accuracy: 0.8250\n",
      "Instancia 27000 | Accuracy: 0.8245\n",
      "Instancia 28000 | Accuracy: 0.8246\n",
      "Instancia 29000 | Accuracy: 0.8250\n",
      "Instancia 30000 | Accuracy: 0.8251\n",
      "Instancia 31000 | Accuracy: 0.8252\n",
      "Instancia 32000 | Accuracy: 0.8247\n",
      "\n",
      "Accuracy final: 0.8247\n"
     ]
    },
    {
     "data": {
      "text/plain": [
       "0.8246675470655078"
      ]
     },
     "execution_count": 12,
     "metadata": {},
     "output_type": "execute_result"
    }
   ],
   "source": [
    "data_stream = stream.iter_csv(\n",
    "    csv_file,\n",
    "    target=\"income\",\n",
    "    converters={\"income\": lambda x: 1 if \">50K\" in str(x) else 0}\n",
    ")\n",
    "evaluar_modelo_con_drift(data_stream, modelo_nombre=\"HDT\", detector_nombre='ADWIN', delay=0.0)"
   ]
  },
  {
   "cell_type": "code",
   "execution_count": null,
   "id": "d92e16a8",
   "metadata": {},
   "outputs": [
    {
     "name": "stdout",
     "output_type": "stream",
     "text": [
      "*** Evaluación con modelo HDT y detector HDDM_W ***\n",
      "\n",
      "[Drift detectado en instancia 144] Accuracy acumulada antes de reinicio: 0.7361\n",
      "Instancia 1000 | Accuracy: 0.9110\n",
      "[Drift detectado en instancia 1421] Accuracy acumulada antes de reinicio: 0.9113\n",
      "[Drift detectado en instancia 1534] Accuracy acumulada antes de reinicio: 0.8983\n",
      "Instancia 2000 | Accuracy: 0.9175\n",
      "[Drift detectado en instancia 2929] Accuracy acumulada antes de reinicio: 0.9358\n",
      "Instancia 3000 | Accuracy: 0.9297\n",
      "[Drift detectado en instancia 3111] Accuracy acumulada antes de reinicio: 0.9196\n",
      "[Drift detectado en instancia 3198] Accuracy acumulada antes de reinicio: 0.9174\n",
      "[Drift detectado en instancia 3309] Accuracy acumulada antes de reinicio: 0.9066\n",
      "[Drift detectado en instancia 3380] Accuracy acumulada antes de reinicio: 0.8982\n",
      "[Drift detectado en instancia 3768] Accuracy acumulada antes de reinicio: 0.9026\n",
      "Instancia 4000 | Accuracy: 0.9083\n",
      "[Drift detectado en instancia 4238] Accuracy acumulada antes de reinicio: 0.9132\n",
      "Instancia 5000 | Accuracy: 0.8966\n",
      "Instancia 6000 | Accuracy: 0.8798\n",
      "Instancia 7000 | Accuracy: 0.8689\n",
      "Instancia 8000 | Accuracy: 0.8620\n",
      "Instancia 9000 | Accuracy: 0.8547\n",
      "[Drift detectado en instancia 9191] Accuracy acumulada antes de reinicio: 0.8517\n",
      "Instancia 10000 | Accuracy: 0.8497\n",
      "Instancia 11000 | Accuracy: 0.8473\n",
      "Instancia 12000 | Accuracy: 0.8442\n",
      "Instancia 13000 | Accuracy: 0.8415\n",
      "Instancia 14000 | Accuracy: 0.8357\n",
      "Instancia 15000 | Accuracy: 0.8324\n",
      "Instancia 16000 | Accuracy: 0.8295\n",
      "Instancia 17000 | Accuracy: 0.8291\n",
      "Instancia 18000 | Accuracy: 0.8275\n",
      "Instancia 19000 | Accuracy: 0.8263\n",
      "Instancia 20000 | Accuracy: 0.8249\n",
      "Instancia 21000 | Accuracy: 0.8245\n",
      "Instancia 22000 | Accuracy: 0.8242\n",
      "Instancia 23000 | Accuracy: 0.8236\n",
      "Instancia 24000 | Accuracy: 0.8226\n",
      "[Drift detectado en instancia 24804] Accuracy acumulada antes de reinicio: 0.8221\n",
      "Instancia 25000 | Accuracy: 0.8224\n",
      "Instancia 26000 | Accuracy: 0.8213\n",
      "Instancia 27000 | Accuracy: 0.8209\n",
      "Instancia 28000 | Accuracy: 0.8204\n",
      "Instancia 29000 | Accuracy: 0.8198\n",
      "Instancia 30000 | Accuracy: 0.8190\n",
      "Instancia 31000 | Accuracy: 0.8193\n",
      "[Drift detectado en instancia 31637] Accuracy acumulada antes de reinicio: 0.8183\n",
      "Instancia 32000 | Accuracy: 0.8179\n",
      "\n",
      "Accuracy final: 0.8180\n"
     ]
    },
    {
     "data": {
      "text/plain": [
       "0.8179724209944412"
      ]
     },
     "execution_count": 13,
     "metadata": {},
     "output_type": "execute_result"
    }
   ],
   "source": [
    "data_stream = stream.iter_csv(\n",
    "    csv_file,\n",
    "    target=\"income\",\n",
    "    converters={\"income\": lambda x: 1 if \">50K\" in str(x) else 0}\n",
    ")\n",
    "evaluar_modelo_con_drift(data_stream, modelo_nombre=\"HDT\", detector_nombre='HDDM_W', delay=0.0)"
   ]
  },
  {
   "cell_type": "markdown",
   "id": "4acf8b20",
   "metadata": {},
   "source": [
    "Aunque observamos que detecta muchas veces drift, sobre todo en las primeras instancias y vemos que mejora tras reiniciar el modelo, hacia el final del dataset deja de haber esa variabilidad en el concepto y el accuracy final acaba siendo practicamente igual al obtenido sin detección de drift."
   ]
  },
  {
   "cell_type": "markdown",
   "id": "32062d66",
   "metadata": {},
   "source": [
    "### 1.10 Evaluación de HAT con detección de drift\n",
    "\n",
    "HAT incorpora su propio ADWIN interno para sustituir ramas cuando detecta cambios locales. Estas adaptaciones generan variaciones en la secuencia de errores que hacen que salte el detector externo, produciendo más alertas de drift, incluso sin cambios reales en la distribución. Por lo que no tiene mucho sentido utilizar un detecor externo basado en el error como DDM con HAT.\n",
    "\n",
    "En este caso concreto conviene emplear KSWIN con parámetros más permisivos porque Hoeffding Adaptive Tree (HAT) ya incorpora su propio mecanismo de adaptación al concepto mediante ADWIN en las hojas. Esto significa que el modelo se reajusta de forma interna cuando detecta variaciones, sin necesidad de un detector externo muy sensible. Si KSWIN fuera demasiado estricto, podría disparar falsas alarmas ante simples fluctuaciones, provocando reacciones innecesarias sobre un clasificador que ya se está ajustando. Al configurarlo de forma más permisiva (aumentando window_size y reduciendo alpha) KSWIN se limita a señalar únicamente cambios realmente sustanciales en lugar de duplicar o entorpecer, la capacidad adaptativa que ya tiene HAT."
   ]
  },
  {
   "cell_type": "code",
   "execution_count": null,
   "id": "4502f87d",
   "metadata": {},
   "outputs": [
    {
     "name": "stdout",
     "output_type": "stream",
     "text": [
      "Instancia 1000 | Accuracy: 0.8450\n",
      "[Drift detectado en instancia 1004] Accuracy acumulada antes de reinicio: 0.8456\n",
      "Instancia 2000 | Accuracy: 0.8560\n",
      "[Drift detectado en instancia 2064] Accuracy acumulada antes de reinicio: 0.8605\n",
      "Instancia 3000 | Accuracy: 0.8883\n",
      "Instancia 4000 | Accuracy: 0.8982\n",
      "[Drift detectado en instancia 4657] Accuracy acumulada antes de reinicio: 0.8830\n",
      "Instancia 5000 | Accuracy: 0.8778\n",
      "[Drift detectado en instancia 5657] Accuracy acumulada antes de reinicio: 0.8098\n",
      "Instancia 6000 | Accuracy: 0.8100\n",
      "Instancia 7000 | Accuracy: 0.8091\n",
      "[Drift detectado en instancia 7095] Accuracy acumulada antes de reinicio: 0.8051\n",
      "Instancia 8000 | Accuracy: 0.8005\n",
      "[Drift detectado en instancia 8462] Accuracy acumulada antes de reinicio: 0.7978\n",
      "Instancia 9000 | Accuracy: 0.7988\n",
      "[Drift detectado en instancia 9917] Accuracy acumulada antes de reinicio: 0.7961\n",
      "Instancia 10000 | Accuracy: 0.7957\n",
      "Instancia 11000 | Accuracy: 0.7951\n",
      "Instancia 12000 | Accuracy: 0.7961\n",
      "Instancia 13000 | Accuracy: 0.7972\n",
      "Instancia 14000 | Accuracy: 0.7969\n",
      "Instancia 15000 | Accuracy: 0.7974\n",
      "Instancia 16000 | Accuracy: 0.7980\n",
      "Instancia 17000 | Accuracy: 0.7996\n",
      "Instancia 18000 | Accuracy: 0.7984\n",
      "Instancia 19000 | Accuracy: 0.7988\n",
      "Instancia 20000 | Accuracy: 0.7987\n",
      "Instancia 21000 | Accuracy: 0.7995\n",
      "Instancia 22000 | Accuracy: 0.7991\n",
      "Instancia 23000 | Accuracy: 0.7984\n",
      "Instancia 24000 | Accuracy: 0.7989\n",
      "Instancia 25000 | Accuracy: 0.7989\n",
      "Instancia 26000 | Accuracy: 0.7983\n",
      "Instancia 27000 | Accuracy: 0.7976\n",
      "Instancia 28000 | Accuracy: 0.7973\n",
      "Instancia 29000 | Accuracy: 0.7975\n",
      "Instancia 30000 | Accuracy: 0.7973\n",
      "Instancia 31000 | Accuracy: 0.7975\n",
      "Instancia 32000 | Accuracy: 0.7963\n",
      "\n",
      "Accuracy final: 0.7961\n"
     ]
    }
   ],
   "source": [
    "data_stream = stream.iter_csv(\n",
    "    csv_file,\n",
    "    target=\"income\",\n",
    "    converters={\"income\": lambda x: 1 if \">50K\" in str(x) else 0}\n",
    ")\n",
    "\n",
    "modelo = elegir_modelo(\"HAT\")\n",
    "detector = drift.KSWIN(alpha=0.0005, window_size=1000, stat_size=200)\n",
    "\n",
    "acc = metrics.Accuracy()\n",
    "\n",
    "for i, (X, y) in enumerate(data_stream, start=1):\n",
    "    \n",
    "    y_pred = modelo.predict_one(X)\n",
    "    \n",
    "    acc.update(y, y_pred)\n",
    "\n",
    "    detector.update(int(y_pred != y))\n",
    "\n",
    "    if detector.drift_detected:\n",
    "        print(f\"[Drift detectado en instancia {i}] \"\n",
    "                f\"Accuracy acumulada antes de reinicio: {acc.get():.4f}\")\n",
    "        modelo = elegir_modelo(\"HAT\")\n",
    "        detector = drift.KSWIN(alpha=0.0005, window_size=1000, stat_size=200)\n",
    "\n",
    "    modelo.learn_one(X, y)\n",
    "\n",
    "    if i % 1000 == 0:\n",
    "        print(f\"Instancia {i} | Accuracy: {acc.get():.4f}\")\n",
    "\n",
    "print(f\"\\nAccuracy final: {acc.get():.4f}\")\n",
    "\n"
   ]
  },
  {
   "cell_type": "markdown",
   "id": "cf5ceb74",
   "metadata": {},
   "source": [
    "### 1.11 Data drift\n",
    "\n",
    "En este apartado hemos decidido aplicar un detector de data drift al atributo `hours-per-week` de esta forma, en un caso real podríamos ver si la distribución de las horas trabajadas por semana cambia significativamente a lo largo del tiempo, por ejemplo por una posible reducción de jornada o un aumento de la productividad en el mercado laboral."
   ]
  },
  {
   "cell_type": "code",
   "execution_count": null,
   "id": "d39d03c6",
   "metadata": {},
   "outputs": [
    {
     "name": "stdout",
     "output_type": "stream",
     "text": [
      "[Drift detectado] Instancia 500 | hours-per-week = 40.0\n",
      "[Drift detectado] Instancia 1018 | hours-per-week = 40.0\n",
      "[Drift detectado] Instancia 1546 | hours-per-week = 50.0\n",
      "[Drift detectado] Instancia 2201 | hours-per-week = 43.0\n",
      "[Drift detectado] Instancia 2854 | hours-per-week = 40.0\n",
      "[Drift detectado] Instancia 3491 | hours-per-week = 40.0\n",
      "[Drift detectado] Instancia 3994 | hours-per-week = 20.0\n",
      "[Drift detectado] Instancia 5235 | hours-per-week = 50.0\n",
      "[Drift detectado] Instancia 5878 | hours-per-week = 45.0\n",
      "[Drift detectado] Instancia 9708 | hours-per-week = 40.0\n",
      "[Drift detectado] Instancia 18832 | hours-per-week = 25.0\n",
      "[Drift detectado] Instancia 19582 | hours-per-week = 40.0\n",
      "[Drift detectado] Instancia 23975 | hours-per-week = 20.0\n",
      "[Drift detectado] Instancia 24712 | hours-per-week = 42.0\n",
      "[Drift detectado] Instancia 27781 | hours-per-week = 40.0\n"
     ]
    }
   ],
   "source": [
    "data_stream = stream.iter_csv(\n",
    "    csv_file,\n",
    "    target=\"income\",\n",
    "    converters={\n",
    "        \"income\": lambda x: 1 if \">50K\" in str(x) else 0,\n",
    "        \"hours.per.week\": float    \n",
    "    }\n",
    ")\n",
    "\n",
    "kswin = drift.KSWIN(alpha=0.015, window_size=500, stat_size=30)\n",
    "\n",
    "for i, (X, y) in enumerate(data_stream, start=1):\n",
    "    hours_val = float(X[\"hours.per.week\"])\n",
    "\n",
    "    kswin.update(hours_val)\n",
    "    # Comprobamos si se detecta drift\n",
    "    if kswin.drift_detected:\n",
    "        print(f\"[Drift detectado] Instancia {i} | hours-per-week = {hours_val}\")\n",
    "        kswin = drift.KSWIN(alpha=0.015, window_size=500, stat_size=30)\n",
    "\n"
   ]
  },
  {
   "cell_type": "markdown",
   "id": "6d011fa8",
   "metadata": {},
   "source": [
    "### 1.12 Ensembles\n",
    "\n",
    "En este punto tiene sentido probar algún ensemble, en concreto ADWINBaggingClassifier porque combina, en un único algoritmo, dos de las ideas clave que hemos tratado: arboles incrementales y detección automática de concept drift. Este modelo mantiene un conjunto de HDTs que aprenden de manera online y, al mismo tiempo, incorpora ADWIN como detector interno de cambios. ADWIN monitoriza la secuencia de errores de cada árbol y, cuando detecta que la distribución de esos errores ha variado significativamente, asume que el concepto ha cambiado y reemplaza el solo el árbol afectado por uno nuevo. Así, el clasificador se adapta de forma continua a posibles variaciones en los datos del flujo sin que tengamos que reiniciar manualmente el entrenamiento ni decidir cuándo ocurren los cambios. Esto lo convierte en una opción muy adecuada para escenarios en los que esperamos concept drift.\n",
    "\n",
    "Como ya hemos concluído antes, el conjunto de datos utilizado no presenta un drift muy acusado por lo que la aplicación de este tipo de modelos podría estar \"sobreactuando\" y aumentando la complijidad de un problema más o menos estable, lo que podría explicar la ligera bajada de rendimiento frente a modelos sencillos."
   ]
  },
  {
   "cell_type": "code",
   "execution_count": null,
   "id": "e87646a6",
   "metadata": {},
   "outputs": [],
   "source": [
    "data_stream = stream.iter_csv(\n",
    "    csv_file,\n",
    "    target=\"income\",\n",
    "    converters={\"income\": lambda x: 1 if \">50K\" in str(x) else 0}\n",
    ")\n",
    "\n",
    "model = ensemble.ADWINBaggingClassifier(\n",
    "    model=tree.HoeffdingTreeClassifier(),\n",
    "    n_models=5,    \n",
    "    seed=42\n",
    ")\n",
    "\n",
    "metric = metrics.Accuracy()\n",
    "\n",
    "print(\"*** Evaluación ADWIN BaggingClassifier ***\\n\")\n",
    "\n",
    "accuracy_final = evaluate.progressive_val_score(\n",
    "    dataset=data_stream,\n",
    "    model=model,\n",
    "    metric=metric,\n",
    "    print_every=1000\n",
    ")\n",
    "print(f\"\\nAccuracy final: {metric.get():.4f}\")\n"
   ]
  },
  {
   "cell_type": "markdown",
   "id": "b4a1848d",
   "metadata": {},
   "source": [
    "### 1.13 Conclusiones\n",
    "\n",
    "En esta sección de la práctica se ha demostrado la viabilidad de modelos de clasificación incremental para el problema de predicción de ingresos en el conjunto de datos utilizado, tratándolo como un flujo de datos continuo.\n",
    "\n",
    "\n",
    "Hoeffding Tree (HDT) ofreció un rendimiento sólido y estable.\n",
    "\n",
    "Hoeffding Adaptive Tree (HAT), diseñado para adaptarse a concept drift, no superó necesariamente a HDT en este conjunto. Esto nos sugiere que el dataset no presenta un concept drift claro.\n",
    "\n",
    "Detección de concept drift\n",
    "\n",
    "Se probaron detectores como DDM, ADWIN y KSWIN.\n",
    "\n",
    "Para HAT, que ya incorpora adaptación interna, utilizamos KSWIN con parámetros más permisivos para monitorizar el flujo sin reinicios demasiado frecuentes, complementando la capacidad adaptativa del modelo sin interferir en exceso, esta aproximación demostró mejores resultados que aplicando el mismo reseteo que a un HDT.\n",
    "\n",
    "Deteccion de Data Drift \n",
    "\n",
    "La monitorización de la variable específica `hours-per-week` , evidenció que la distribución de ciertas características puede variar en el tiempo, en este caso por una posible nueva ley de reducción de jornada o por un aumento de la productividad en el mercado laboral.\n",
    "\n",
    "La prueba realizada con ensembles incrementales, concretamente con ADWINBaggingClassifier, muestra que en flujos de datos como el utilizado en este trabajo, donde la distribución de los datos es relativamente estacionaria, el coste de mantener varios modelos y reiniciarlos cuando ADWIN detecta cambios puede traducirse en una ligera pérdida de precisión frente a un único Hoeffding Tree. En otras palabras, la ventaja de los ensembles no radica en mejorar la exactitud en problemas ligeramente estáticos, sino en ofrecer robustez y resiliencia cuando las condiciones cambian realmente. En escenarios más dinámicos o sujetos a variaciones frecuentes, se esperaría que estos métodos superen a los modelos individuales, justificando su mayor complejidad computacional."
   ]
  },
  {
   "cell_type": "markdown",
   "id": "632aadcc",
   "metadata": {},
   "source": [
    "# 2. Regresión\n",
    "\n",
    "Para el problema de regresión trabajamos con el conjunto de datos California Housing, que contiene información censal sobre características socioeconómicas y de viviendas en distintos distritos de California. Cada observación incluye variables como la mediana de la renta de los hogares, la edad media de las viviendas, el número de habitaciones, el número de ocupantes o la localización geográfica, y está asociada al valor medio de la vivienda en esa zona (en 100 de miles).\n",
    "Aunque los datos provienen de un archivo estático, en esta práctica planteamos el problema como si las observaciones llegaran de forma secuencial en un flujo de datos. De esta forma, simulamos un escenario realista en el que la información sobre el mercado inmobiliario se actualiza continuamente (por ejemplo, con nuevas tasaciones o registros de compraventas), lo que requiere modelos capaces de adaptarse a cambios en el tiempo."
   ]
  },
  {
   "cell_type": "markdown",
   "id": "63ad70dc",
   "metadata": {},
   "source": [
    "# Objetivo\n",
    "El objetivo principal es implementar un modelo de regresión incremental que prediga el valor medio de las viviendas a partir de las variables disponibles. Para ello, se entrenarán modelos capaces de actualizar sus parámetros de manera progresiva conforme llegan nuevas instancias.\n",
    "Este enfoque nos permitirá analizar el comportamiento de los modelos en un entorno dinámico, evaluar su capacidad de adaptación."
   ]
  },
  {
   "cell_type": "markdown",
   "id": "4ca1db8f",
   "metadata": {},
   "source": [
    "### 2.1 Carga del csv y vista preliminar"
   ]
  },
  {
   "cell_type": "code",
   "execution_count": 17,
   "id": "0e7e5d8e",
   "metadata": {},
   "outputs": [
    {
     "name": "stdout",
     "output_type": "stream",
     "text": [
      "(20640, 9)\n",
      "   MedInc  HouseAge  AveRooms  AveBedrms  Population  AveOccup  Latitude  \\\n",
      "0  8.3252      41.0  6.984127   1.023810       322.0  2.555556     37.88   \n",
      "1  8.3014      21.0  6.238137   0.971880      2401.0  2.109842     37.86   \n",
      "2  7.2574      52.0  8.288136   1.073446       496.0  2.802260     37.85   \n",
      "3  5.6431      52.0  5.817352   1.073059       558.0  2.547945     37.85   \n",
      "4  3.8462      52.0  6.281853   1.081081       565.0  2.181467     37.85   \n",
      "\n",
      "   Longitude  MedHouseVal  \n",
      "0    -122.23        4.526  \n",
      "1    -122.22        3.585  \n",
      "2    -122.24        3.521  \n",
      "3    -122.25        3.413  \n",
      "4    -122.25        3.422  \n"
     ]
    }
   ],
   "source": [
    "from sklearn.datasets import fetch_california_housing\n",
    "data = fetch_california_housing(as_frame=True)\n",
    "df = data.frame    # DataFrame con todas las columnas\n",
    "print(df.shape)\n",
    "print(df.head())"
   ]
  },
  {
   "cell_type": "code",
   "execution_count": 9,
   "id": "05ca0661",
   "metadata": {},
   "outputs": [
    {
     "data": {
      "image/png": "[encoded data removed]",
      "text/plain": [
       "<Figure size 1200x1000 with 2 Axes>"
      ]
     },
     "metadata": {},
     "output_type": "display_data"
    }
   ],
   "source": [
    "correlation_matrix = df.corr()\n",
    "\n",
    "plt.figure(figsize=(12, 10))\n",
    "sns.heatmap(correlation_matrix, cmap=\"coolwarm\", linewidths=.5)\n",
    "plt.title(\"Matriz de correlaciones\")\n",
    "plt.show()"
   ]
  },
  {
   "cell_type": "markdown",
   "id": "874a9940",
   "metadata": {},
   "source": [
    "Vemos que hay algo de correlación, no obstante, al tratarse de flujos de datos, no podemos hacer técnicas de selección de atributos previamente por esto."
   ]
  },
  {
   "cell_type": "code",
   "execution_count": 15,
   "id": "4b63888c",
   "metadata": {},
   "outputs": [],
   "source": [
    "data_stream = ( #eliminamos la columna objetivo\n",
    "    (row.drop(\"MedHouseVal\"), row[\"MedHouseVal\"])\n",
    "    for _, row in df.iterrows() \n",
    ")"
   ]
  },
  {
   "cell_type": "code",
   "execution_count": 11,
   "id": "c6c1e99d",
   "metadata": {},
   "outputs": [],
   "source": [
    "R2 = metrics.R2()\n",
    "MAE = metrics.MAE()"
   ]
  },
  {
   "cell_type": "markdown",
   "id": "b85c5f0b",
   "metadata": {},
   "source": [
    "Inicialmente, probamos con modelos lineales simples pero los resultados no fueron nada buenos. Para solucionarlo, incorporamos modelos más complejos como pueden ser los ensembles con arboles de decisión, que son más robustos ante problemas de multicolinealidad. Además añadimos un feature selection ya que es normal que en problemas de regresión, haya variables más utiles que otras y de esta maneraeliminamos variables innecesarias y ruído.\n",
    "\n",
    "En cuanto a la selección de hirperparametros comentar lo siguiente:\n",
    "- `grace_period` = 40, lo bajamos respecto a los 200 por defecto para favorecer las divisiones en las hojas.\n",
    "- `model_selector_decay` = 0.6, ya que realmente este dataset no tiene el componente de tempralidad no habría que darle más importancia a las muestras más recientes.\n",
    "- `n_models` = 4, tomamos 4 árboles para dar robustez sin añadir una complijidad excesiva. \n",
    "\n",
    "En cuanto al selector de características elegimos el PoissonInclusion ya que al no tener idea de cuales son los atributos más relevantes a priori, dejaremos que el atributo sea añadido con probabilidad p = 0.4"
   ]
  },
  {
   "cell_type": "code",
   "execution_count": null,
   "id": "08b49398",
   "metadata": {},
   "outputs": [
    {
     "name": "stdout",
     "output_type": "stream",
     "text": [
      "M1 R2: 0.545666\n",
      "M2 MAE: 0.425203\n",
      "M1 R2: 0.592015\n",
      "M2 MAE: 0.37288\n",
      "M1 R2: 0.608002\n",
      "M2 MAE: 0.376482\n",
      "M1 R2: 0.620254\n",
      "M2 MAE: 0.397364\n",
      "M1 R2: 0.666302\n",
      "M2 MAE: 0.379064\n",
      "M1 R2: 0.701052\n",
      "M2 MAE: 0.35042\n",
      "M1 R2: 0.70415\n",
      "M2 MAE: 0.342387\n",
      "M1 R2: 0.725644\n",
      "M2 MAE: 0.338386\n",
      "M1 R2: 0.754647\n",
      "M2 MAE: 0.351918\n",
      "M1 R2: 0.738301\n",
      "M2 MAE: 0.367128\n",
      "M1 R2: 0.770653\n",
      "M2 MAE: 0.372108\n",
      "M1 R2: 0.770302\n",
      "M2 MAE: 0.375465\n",
      "M1 R2: 0.770073\n",
      "M2 MAE: 0.369005\n",
      "M1 R2: 0.772071\n",
      "M2 MAE: 0.369666\n",
      "M1 R2: 0.771577\n",
      "M2 MAE: 0.357295\n",
      "M1 R2: 0.771551\n",
      "M2 MAE: 0.347696\n",
      "M1 R2: 0.764145\n",
      "M2 MAE: 0.347396\n",
      "M1 R2: 0.782664\n",
      "M2 MAE: 0.357461\n",
      "M1 R2: 0.779775\n",
      "M2 MAE: 0.366316\n",
      "M1 R2: 0.776775\n",
      "M2 MAE: 0.3668\n",
      "M1 R2: 0.772272\n",
      "M2 MAE: 0.36882\n",
      "M1 R2: 0.767646\n",
      "M2 MAE: 0.377572\n",
      "M1 R2: 0.766526\n",
      "M2 MAE: 0.373598\n",
      "M1 R2: 0.762397\n",
      "M2 MAE: 0.375573\n",
      "M1 R2: 0.759086\n",
      "M2 MAE: 0.375924\n",
      "M1 R2: 0.762174\n",
      "M2 MAE: 0.371923\n",
      "M1 R2: 0.760269\n",
      "M2 MAE: 0.369377\n",
      "M1 R2: 0.763435\n",
      "M2 MAE: 0.365458\n",
      "M1 R2: 0.761043\n",
      "M2 MAE: 0.367118\n",
      "M1 R2: 0.757909\n",
      "M2 MAE: 0.366279\n",
      "M1 R2: 0.754069\n",
      "M2 MAE: 0.367223\n",
      "M1 R2: 0.751786\n",
      "M2 MAE: 0.373351\n",
      "M1 R2: 0.756045\n",
      "M2 MAE: 0.371087\n",
      "M1 R2: 0.752834\n",
      "M2 MAE: 0.373815\n",
      "M1 R2: 0.752358\n",
      "M2 MAE: 0.380816\n",
      "M1 R2: 0.75096\n",
      "M2 MAE: 0.379549\n",
      "M1 R2: 0.760232\n",
      "M2 MAE: 0.381283\n",
      "M1 R2: 0.760258\n",
      "M2 MAE: 0.379831\n",
      "M1 R2: 0.748476\n",
      "M2 MAE: 0.379298\n",
      "M1 R2: 0.752519\n",
      "M2 MAE: 0.376428\n",
      "M1 R2: 0.74935\n",
      "M2 MAE: 0.37798\n",
      "final R2: 0.749315\n",
      "final MAE: 0.378103\n"
     ]
    }
   ],
   "source": [
    "model = preprocessing.StandardScaler() | ensemble.BaggingRegressor(\n",
    "    model=tree.HoeffdingAdaptiveTreeRegressor(grace_period=40, model_selector_decay=0.6,seed=42),\n",
    "    n_models=4,\n",
    "    seed=42\n",
    ")\n",
    "selector = feature_selection.PoissonInclusion(p=0.4, seed=42)\n",
    "\n",
    "cont = 0\n",
    "for x,y in data_stream:\n",
    "    x1 = selector.transform_one(x)\n",
    "    cont+=1\n",
    "    y_pred = model.predict_one(x1)\n",
    "    R2.update(y,y_pred)\n",
    "    MAE.update(y,y_pred)\n",
    "    model.learn_one(x1,y)\n",
    "    if cont % 500 == 0:\n",
    "        print(\"M1\", R2)\n",
    "        print(\"M2\", MAE)\n",
    "\n",
    "print(\"final\", R2)\n",
    "print(\"final\", MAE)"
   ]
  },
  {
   "cell_type": "markdown",
   "id": "782d1b1c",
   "metadata": {},
   "source": [
    "Finalmente obtenemos un R2 = 0.75 lo que nos indica que el modelo es capaz de explicar un 75% de la varianza de la variable objetivo, lo cual es un resultado aceptable.\n",
    "En cuanto al MAE, obtenemos un valor de 0.37 unidades en la escala original, esto determina que el erro medio en nuestras predicciones es de esa cantidad."
   ]
  },
  {
   "cell_type": "markdown",
   "id": "265aeec8",
   "metadata": {},
   "source": [
    "### Comparación frente a un regresor por lotes\n",
    "\n",
    "Débido a las dudas respecto a las métricas obtenidas vemos apropiado compararlas frente a un modelo regresor por lotes y ver si la diferencia es abultada."
   ]
  },
  {
   "cell_type": "code",
   "execution_count": null,
   "id": "069f5a03",
   "metadata": {},
   "outputs": [
    {
     "name": "stdout",
     "output_type": "stream",
     "text": [
      "🔹 Resultados del modelo batch (SVR)\n",
      "MAE:  0.3774\n",
      "RMSE: 0.5689\n",
      "R²:   0.7530\n"
     ]
    }
   ],
   "source": [
    "from sklearn.svm import SVR\n",
    "from sklearn.preprocessing import StandardScaler\n",
    "from sklearn.pipeline import Pipeline\n",
    "from sklearn.metrics import mean_squared_error, mean_absolute_error, r2_score\n",
    "from sklearn.model_selection import train_test_split\n",
    "import numpy as np\n",
    "from sklearn.datasets import fetch_california_housing\n",
    "data = fetch_california_housing(as_frame=True)\n",
    "df = data.frame  \n",
    "\n",
    "X = df.drop(columns=[\"MedHouseVal\"])\n",
    "y = df[\"MedHouseVal\"]\n",
    "\n",
    "X_train, X_test, y_train, y_test = train_test_split(\n",
    "    X, y, test_size=0.2, random_state=42\n",
    ")\n",
    "\n",
    "svr_model = Pipeline([\n",
    "    (\"scaler\", StandardScaler()),\n",
    "    (\"svr\", SVR(kernel=\"rbf\", C=10, epsilon=0.1))\n",
    "])\n",
    "\n",
    "svr_model.fit(X_train, y_train)\n",
    "\n",
    "y_pred = svr_model.predict(X_test)\n",
    "\n",
    "mae = mean_absolute_error(y_test, y_pred)\n",
    "mse = mean_squared_error(y_test, y_pred)\n",
    "rmse = np.sqrt(mse)\n",
    "r2 = r2_score(y_test, y_pred)\n",
    "\n",
    "print(\"🔹 Resultados del modelo batch (SVR)\")\n",
    "print(f\"MAE:  {mae:.4f}\")\n",
    "print(f\"RMSE: {rmse:.4f}\")\n",
    "print(f\"R²:   {r2:.4f}\")\n"
   ]
  },
  {
   "cell_type": "markdown",
   "id": "feb02435",
   "metadata": {},
   "source": [
    "Vemos que los resultados son claramente comparables, practicamente iguales, lo que nos dice que nuestro modelo incremental mantiene un buen desempeño a pesar de no conocer a priori todos los datos, además tenemos todas las ventajas de un modelo incremental como el ahorro de memoria, la capacidad de dar predicciones en tiempo real o la posibilidad de adaptarse a nuevos datos en un flujo real."
   ]
  }
 ],
 "metadata": {
  "kernelspec": {
   "display_name": "Python 3",
   "language": "python",
   "name": "python3"
  },
  "language_info": {
   "codemirror_mode": {
    "name": "ipython",
    "version": 3
   },
   "file_extension": ".py",
   "mimetype": "text/x-python",
   "name": "python",
   "nbconvert_exporter": "python",
   "pygments_lexer": "ipython3",
   "version": "3.12.10"
  }
 },
 "nbformat": 4,
 "nbformat_minor": 5
}
