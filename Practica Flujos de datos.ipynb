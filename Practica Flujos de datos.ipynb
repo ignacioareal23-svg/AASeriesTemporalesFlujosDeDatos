{
 "cells": [
  {
   "cell_type": "markdown",
   "metadata": {},
   "source": [
    "# Practica semanal individual\n",
    "\n"
   ]
  },
  {
   "cell_type": "markdown",
   "metadata": {},
   "source": [
    "## Instalación de river\n"
   ]
  },
  {
   "cell_type": "code",
   "execution_count": 30,
   "metadata": {},
   "outputs": [
    {
     "name": "stdout",
     "output_type": "stream",
     "text": [
      "Defaulting to user installation because normal site-packages is not writeable\n",
      "Requirement already satisfied: river in c:\\users\\nacho\\appdata\\local\\packages\\pythonsoftwarefoundation.python.3.12_qbz5n2kfra8p0\\localcache\\local-packages\\python312\\site-packages (0.22.0)\n",
      "Requirement already satisfied: numpy>=1.23.0 in c:\\users\\nacho\\appdata\\local\\packages\\pythonsoftwarefoundation.python.3.12_qbz5n2kfra8p0\\localcache\\local-packages\\python312\\site-packages (from river) (1.26.4)\n",
      "Requirement already satisfied: pandas<3.0.0,>=2.2.3 in c:\\users\\nacho\\appdata\\local\\packages\\pythonsoftwarefoundation.python.3.12_qbz5n2kfra8p0\\localcache\\local-packages\\python312\\site-packages (from river) (2.2.3)\n",
      "Requirement already satisfied: scipy<2.0.0,>=1.14.1 in c:\\users\\nacho\\appdata\\local\\packages\\pythonsoftwarefoundation.python.3.12_qbz5n2kfra8p0\\localcache\\local-packages\\python312\\site-packages (from river) (1.16.2)\n",
      "Requirement already satisfied: python-dateutil>=2.8.2 in c:\\users\\nacho\\appdata\\local\\packages\\pythonsoftwarefoundation.python.3.12_qbz5n2kfra8p0\\localcache\\local-packages\\python312\\site-packages (from pandas<3.0.0,>=2.2.3->river) (2.9.0.post0)\n",
      "Requirement already satisfied: pytz>=2020.1 in c:\\users\\nacho\\appdata\\local\\packages\\pythonsoftwarefoundation.python.3.12_qbz5n2kfra8p0\\localcache\\local-packages\\python312\\site-packages (from pandas<3.0.0,>=2.2.3->river) (2025.1)\n",
      "Requirement already satisfied: tzdata>=2022.7 in c:\\users\\nacho\\appdata\\local\\packages\\pythonsoftwarefoundation.python.3.12_qbz5n2kfra8p0\\localcache\\local-packages\\python312\\site-packages (from pandas<3.0.0,>=2.2.3->river) (2025.1)\n",
      "Requirement already satisfied: six>=1.5 in c:\\users\\nacho\\appdata\\local\\packages\\pythonsoftwarefoundation.python.3.12_qbz5n2kfra8p0\\localcache\\local-packages\\python312\\site-packages (from python-dateutil>=2.8.2->pandas<3.0.0,>=2.2.3->river) (1.16.0)\n"
     ]
    },
    {
     "name": "stderr",
     "output_type": "stream",
     "text": [
      "WARNING: Ignoring invalid distribution ~cipy (C:\\Users\\nacho\\AppData\\Local\\Packages\\PythonSoftwareFoundation.Python.3.12_qbz5n2kfra8p0\\LocalCache\\local-packages\\Python312\\site-packages)\n",
      "WARNING: Ignoring invalid distribution ~cipy (C:\\Users\\nacho\\AppData\\Local\\Packages\\PythonSoftwareFoundation.Python.3.12_qbz5n2kfra8p0\\LocalCache\\local-packages\\Python312\\site-packages)\n",
      "WARNING: Ignoring invalid distribution ~cipy (C:\\Users\\nacho\\AppData\\Local\\Packages\\PythonSoftwareFoundation.Python.3.12_qbz5n2kfra8p0\\LocalCache\\local-packages\\Python312\\site-packages)\n"
     ]
    }
   ],
   "source": [
    "!pip install river"
   ]
  },
  {
   "cell_type": "markdown",
   "metadata": {},
   "source": [
    "## Imports"
   ]
  },
  {
   "cell_type": "code",
   "execution_count": 2,
   "metadata": {},
   "outputs": [],
   "source": [
    "import time\n",
    "import pandas as pd\n",
    "from river import stream, tree, metrics, evaluate, drift, naive_bayes,preprocessing,ensemble\n",
    "from sklearn.model_selection import train_test_split\n",
    "from sklearn.tree import DecisionTreeClassifier\n",
    "from sklearn.metrics import accuracy_score\n"
   ]
  },
  {
   "cell_type": "markdown",
   "id": "26e09b23",
   "metadata": {},
   "source": [
    "## 1. Introducción"
   ]
  },
  {
   "cell_type": "markdown",
   "id": "ae8be572",
   "metadata": {},
   "source": [
    "El conjunto de datos Adult del UCI Machine Learning Repository recoge información demográfica y laboral de personas (edad, nivel educativo, tipo de empleo, horas de trabajo, etc.) junto con una etiqueta binaria que indica si sus ingresos anuales superan los 50 000 USD.\n"
   ]
  },
  {
   "cell_type": "markdown",
   "metadata": {},
   "source": [
    "## 1.1 Carga del CSV y vista preliminar\n"
   ]
  },
  {
   "cell_type": "code",
   "execution_count": 3,
   "metadata": {},
   "outputs": [
    {
     "data": {
      "text/html": [
       "<div>\n",
       "<style scoped>\n",
       "    .dataframe tbody tr th:only-of-type {\n",
       "        vertical-align: middle;\n",
       "    }\n",
       "\n",
       "    .dataframe tbody tr th {\n",
       "        vertical-align: top;\n",
       "    }\n",
       "\n",
       "    .dataframe thead th {\n",
       "        text-align: right;\n",
       "    }\n",
       "</style>\n",
       "<table border=\"1\" class=\"dataframe\">\n",
       "  <thead>\n",
       "    <tr style=\"text-align: right;\">\n",
       "      <th></th>\n",
       "      <th>age</th>\n",
       "      <th>workclass</th>\n",
       "      <th>fnlwgt</th>\n",
       "      <th>education</th>\n",
       "      <th>education.num</th>\n",
       "      <th>marital.status</th>\n",
       "      <th>occupation</th>\n",
       "      <th>relationship</th>\n",
       "      <th>race</th>\n",
       "      <th>sex</th>\n",
       "      <th>capital.gain</th>\n",
       "      <th>capital.loss</th>\n",
       "      <th>hours.per.week</th>\n",
       "      <th>native.country</th>\n",
       "      <th>income</th>\n",
       "    </tr>\n",
       "  </thead>\n",
       "  <tbody>\n",
       "    <tr>\n",
       "      <th>0</th>\n",
       "      <td>90</td>\n",
       "      <td>?</td>\n",
       "      <td>77053</td>\n",
       "      <td>HS-grad</td>\n",
       "      <td>9</td>\n",
       "      <td>Widowed</td>\n",
       "      <td>?</td>\n",
       "      <td>Not-in-family</td>\n",
       "      <td>White</td>\n",
       "      <td>Female</td>\n",
       "      <td>0</td>\n",
       "      <td>4356</td>\n",
       "      <td>40</td>\n",
       "      <td>United-States</td>\n",
       "      <td>&lt;=50K</td>\n",
       "    </tr>\n",
       "    <tr>\n",
       "      <th>1</th>\n",
       "      <td>82</td>\n",
       "      <td>Private</td>\n",
       "      <td>132870</td>\n",
       "      <td>HS-grad</td>\n",
       "      <td>9</td>\n",
       "      <td>Widowed</td>\n",
       "      <td>Exec-managerial</td>\n",
       "      <td>Not-in-family</td>\n",
       "      <td>White</td>\n",
       "      <td>Female</td>\n",
       "      <td>0</td>\n",
       "      <td>4356</td>\n",
       "      <td>18</td>\n",
       "      <td>United-States</td>\n",
       "      <td>&lt;=50K</td>\n",
       "    </tr>\n",
       "    <tr>\n",
       "      <th>2</th>\n",
       "      <td>66</td>\n",
       "      <td>?</td>\n",
       "      <td>186061</td>\n",
       "      <td>Some-college</td>\n",
       "      <td>10</td>\n",
       "      <td>Widowed</td>\n",
       "      <td>?</td>\n",
       "      <td>Unmarried</td>\n",
       "      <td>Black</td>\n",
       "      <td>Female</td>\n",
       "      <td>0</td>\n",
       "      <td>4356</td>\n",
       "      <td>40</td>\n",
       "      <td>United-States</td>\n",
       "      <td>&lt;=50K</td>\n",
       "    </tr>\n",
       "    <tr>\n",
       "      <th>3</th>\n",
       "      <td>54</td>\n",
       "      <td>Private</td>\n",
       "      <td>140359</td>\n",
       "      <td>7th-8th</td>\n",
       "      <td>4</td>\n",
       "      <td>Divorced</td>\n",
       "      <td>Machine-op-inspct</td>\n",
       "      <td>Unmarried</td>\n",
       "      <td>White</td>\n",
       "      <td>Female</td>\n",
       "      <td>0</td>\n",
       "      <td>3900</td>\n",
       "      <td>40</td>\n",
       "      <td>United-States</td>\n",
       "      <td>&lt;=50K</td>\n",
       "    </tr>\n",
       "    <tr>\n",
       "      <th>4</th>\n",
       "      <td>41</td>\n",
       "      <td>Private</td>\n",
       "      <td>264663</td>\n",
       "      <td>Some-college</td>\n",
       "      <td>10</td>\n",
       "      <td>Separated</td>\n",
       "      <td>Prof-specialty</td>\n",
       "      <td>Own-child</td>\n",
       "      <td>White</td>\n",
       "      <td>Female</td>\n",
       "      <td>0</td>\n",
       "      <td>3900</td>\n",
       "      <td>40</td>\n",
       "      <td>United-States</td>\n",
       "      <td>&lt;=50K</td>\n",
       "    </tr>\n",
       "  </tbody>\n",
       "</table>\n",
       "</div>"
      ],
      "text/plain": [
       "   age workclass  fnlwgt     education  education.num marital.status  \\\n",
       "0   90         ?   77053       HS-grad              9        Widowed   \n",
       "1   82   Private  132870       HS-grad              9        Widowed   \n",
       "2   66         ?  186061  Some-college             10        Widowed   \n",
       "3   54   Private  140359       7th-8th              4       Divorced   \n",
       "4   41   Private  264663  Some-college             10      Separated   \n",
       "\n",
       "          occupation   relationship   race     sex  capital.gain  \\\n",
       "0                  ?  Not-in-family  White  Female             0   \n",
       "1    Exec-managerial  Not-in-family  White  Female             0   \n",
       "2                  ?      Unmarried  Black  Female             0   \n",
       "3  Machine-op-inspct      Unmarried  White  Female             0   \n",
       "4     Prof-specialty      Own-child  White  Female             0   \n",
       "\n",
       "   capital.loss  hours.per.week native.country income  \n",
       "0          4356              40  United-States  <=50K  \n",
       "1          4356              18  United-States  <=50K  \n",
       "2          4356              40  United-States  <=50K  \n",
       "3          3900              40  United-States  <=50K  \n",
       "4          3900              40  United-States  <=50K  "
      ]
     },
     "execution_count": 3,
     "metadata": {},
     "output_type": "execute_result"
    }
   ],
   "source": [
    "csv_file = \"adult.csv\"\n",
    "\n",
    "# Carga inicial solo para inspección\n",
    "df = pd.read_csv(csv_file)\n",
    "df.head()"
   ]
  },
  {
   "cell_type": "markdown",
   "id": "63866c4e",
   "metadata": {},
   "source": [
    "# 2. Objetivo\n",
    "Aunque se trata de un dataset estático, presenta varias características que lo hacen ideal para simular un flujo de datos:\n",
    "\n",
    "Naturaleza temporal implícita: los registros reflejan una realidad socioeconómica que, en la práctica, puede evolucionar a lo largo del tiempo.\n",
    "\n",
    "Tamaño moderado pero suficiente: permite iterar muchas instancias de forma eficiente, como si fueran llegadas sucesivas de información de nuevos individuos.\n",
    "\n",
    "Problema de clasificación binaria realista: predecir si una persona supera un umbral de ingresos es un caso de uso frecuente en sistemas de recomendación de créditos, análisis de riesgo o planificación social.\n",
    "\n",
    "El objetivo de este trabajo consiste en replicar condiciones cercanas a un sistema en producción que recibe datos demográficos en tiempo real, facilitando la transición a un entorno real de big data."
   ]
  },
  {
   "cell_type": "markdown",
   "metadata": {},
   "source": [
    "## 2.1 Simular flujo de datos\n",
    "Transformamos el CSV en un generador que emite cada fila como un registro de flujo.\n",
    "La columna `income` se convierte a binaria (1 si >50K, 0 en caso contrario)."
   ]
  },
  {
   "cell_type": "code",
   "execution_count": 4,
   "metadata": {},
   "outputs": [],
   "source": [
    "data_stream = stream.iter_csv(\n",
    "    csv_file,\n",
    "    target=\"income\",\n",
    "    converters={\n",
    "        \"income\": lambda x: 1 if \">50K\" in str(x) else 0\n",
    "    }\n",
    ")"
   ]
  },
  {
   "cell_type": "markdown",
   "id": "8d391aaf",
   "metadata": {},
   "source": [
    "# 3. Desarrollo"
   ]
  },
  {
   "cell_type": "markdown",
   "metadata": {},
   "source": [
    "## 3.1 Función para elegir el modelo\n",
    "Permite seleccionar entre HDT, HAT o EFDT."
   ]
  },
  {
   "cell_type": "code",
   "execution_count": 9,
   "metadata": {},
   "outputs": [],
   "source": [
    "def elegir_modelo(nombre_modelo: str):\n",
    "    nombre = nombre_modelo.lower()\n",
    "    if nombre == \"hdt\":\n",
    "        return tree.HoeffdingTreeClassifier()\n",
    "    elif nombre == \"hat\":\n",
    "        return tree.HoeffdingAdaptiveTreeClassifier() # rolling para ver el accuracy en las últimas n instancias\n",
    "    elif nombre == \"efdt\":\n",
    "        return tree.ExtremelyFastDecisionTreeClassifier()\n",
    "    else:\n",
    "        raise ValueError(\"Modelo no reconocido. Usa: 'HDT', 'HAT' o 'EFDT'.\")"
   ]
  },
  {
   "cell_type": "markdown",
   "id": "97ae0280",
   "metadata": {},
   "source": [
    "# 3.2 Función para elegir el detector de drift\n",
    "\n",
    "Permite seleccionar entre DDM, "
   ]
  },
  {
   "cell_type": "code",
   "execution_count": null,
   "id": "49b15ce3",
   "metadata": {},
   "outputs": [],
   "source": [
    "def elegir_detector(nombre: str):\n",
    "    if nombre == \"DDM\":\n",
    "        return drift.binary.DDM()\n",
    "    elif nombre == \"ADWIN\":\n",
    "        return drift.ADWIN()\n",
    "    elif nombre == \"HDDM_W\":\n",
    "        return drift.binary.HDDM_W()\n",
    "    elif nombre == \"HDDM_A\":\n",
    "        return drift.binary.HDDM_A()\n",
    "    elif nombre == \"KSWIN\":\n",
    "        return drift.KSWIN(alpha=0.01, window_size=200, stat_size=50) #AJUSTABLE\n",
    "    elif nombre ==\"PH\":\n",
    "       return drift.PageHinkley()\n",
    "    else:\n",
    "        raise ValueError(\n",
    "            \"Detector no reconocido. Usa: 'DDM', 'ADWIN', 'HDDM_W', 'KSWIN' o 'PH'.\"\n",
    "        )\n"
   ]
  },
  {
   "cell_type": "markdown",
   "metadata": {},
   "source": [
    "## 3.3 Evaluación con validación progresiva\n",
    "`evaluate.progressive_val_score` realiza el ciclo test-then-train automáticamente:\n",
    "1. Predice la instancia entrante.\n",
    "2. Actualiza la métrica.\n",
    "3. Entrena el modelo."
   ]
  },
  {
   "cell_type": "code",
   "execution_count": 7,
   "metadata": {},
   "outputs": [],
   "source": [
    "def evaluar_modelo(data, modelo_nombre):\n",
    "    modelo = elegir_modelo(modelo_nombre)\n",
    "    metricas = metrics.Accuracy()\n",
    "    print(f\"*** Evaluación con modelo: {modelo_nombre.upper()} ***\\n\")\n",
    "    resultado = evaluate.progressive_val_score(\n",
    "        dataset=data,\n",
    "        model=modelo,\n",
    "        metric=metricas,\n",
    "        print_every=1000  # imprime cada 1000 instancias\n",
    "    )\n",
    "    print(f\"Accuracy final: {resultado.get():.4f}\")\n",
    "    return resultado.get()"
   ]
  },
  {
   "cell_type": "markdown",
   "id": "e9efe099",
   "metadata": {},
   "source": [
    "# 3.4 Evaluación con detección de drift"
   ]
  },
  {
   "cell_type": "markdown",
   "id": "4137edbb",
   "metadata": {},
   "source": [
    "Cuando se detecta un drift, el modelo entrenado con datos anteriores deja de representar la realidad actual, por lo que en el código reinicio el modelo cada vez que detecta un concept drift. Es cierto que, justo después de reiniciarlo, el modelo tiene pocos ejemplos y su rendimiento baja. Pero este tiempo de bajo rendimiento es preferible a mantener un modelo que predice sistemáticamente mal debido a un cambio de distribución y en el contexto de nuestro sistema no necesitamos tener un modelo preparado en todo momento, sino que es preferible asegurarnos un mejor modelo a la larga. Más adelante, con el uso de ensembles este problema se solucionaría."
   ]
  },
  {
   "cell_type": "code",
   "execution_count": null,
   "id": "f4eb1bfc",
   "metadata": {},
   "outputs": [],
   "source": [
    "def evaluar_modelo_con_drift(data_stream, modelo_nombre, detector_nombre, delay):\n",
    "\n",
    "    modelo = elegir_modelo(modelo_nombre)\n",
    "    detector = elegir_detector(detector_nombre)\n",
    "\n",
    "    acc = metrics.Accuracy()\n",
    "\n",
    "    print(f\"*** Evaluación con modelo {modelo_nombre.upper()} \"\n",
    "          f\"y detector {detector_nombre.upper()} ***\\n\")\n",
    "\n",
    "    for i, (X, y) in enumerate(data_stream, start=1):\n",
    "        \n",
    "        y_pred = modelo.predict_one(X)\n",
    "        \n",
    "        acc.update(y, y_pred)\n",
    "\n",
    "        # Actualizar detector con error (1 si fallo, 0 si acierto)\n",
    "        detector.update(int(y_pred != y))\n",
    "\n",
    "        if detector.drift_detected:\n",
    "            print(f\"[Drift detectado en instancia {i}] \"\n",
    "                    f\"Accuracy acumulada antes de reinicio: {acc.get():.4f}\")\n",
    "            # Reiniciar modelo y detector\n",
    "            modelo = elegir_modelo(modelo_nombre)\n",
    "            detector = elegir_detector(detector_nombre)\n",
    "\n",
    "        modelo.learn_one(X, y)\n",
    "\n",
    "        if i % 1000 == 0:\n",
    "            print(f\"Instancia {i} | Accuracy: {acc.get():.4f}\")\n",
    "\n",
    "        if delay > 0:\n",
    "            time.sleep(delay)\n",
    "\n",
    "    print(f\"\\nAccuracy final: {acc.get():.4f}\")\n",
    "    return acc.get()\n"
   ]
  },
  {
   "cell_type": "markdown",
   "metadata": {},
   "source": [
    "## 3.5 Ejecutar evaluación HDT"
   ]
  },
  {
   "cell_type": "code",
   "execution_count": 38,
   "metadata": {},
   "outputs": [
    {
     "name": "stdout",
     "output_type": "stream",
     "text": [
      "*** Evaluación con modelo: HDT ***\n",
      "\n",
      "[1,000] Accuracy: 89.89%\n",
      "[2,000] Accuracy: 91.60%\n",
      "[3,000] Accuracy: 91.93%\n",
      "[4,000] Accuracy: 91.65%\n",
      "[5,000] Accuracy: 89.88%\n",
      "[6,000] Accuracy: 88.16%\n",
      "[7,000] Accuracy: 87.04%\n",
      "[8,000] Accuracy: 86.37%\n",
      "[9,000] Accuracy: 85.62%\n",
      "[10,000] Accuracy: 84.68%\n",
      "[11,000] Accuracy: 84.42%\n",
      "[12,000] Accuracy: 84.18%\n",
      "[13,000] Accuracy: 83.87%\n",
      "[14,000] Accuracy: 83.53%\n",
      "[15,000] Accuracy: 83.38%\n",
      "[16,000] Accuracy: 83.27%\n",
      "[17,000] Accuracy: 83.26%\n",
      "[18,000] Accuracy: 82.95%\n",
      "[19,000] Accuracy: 82.66%\n",
      "[20,000] Accuracy: 82.58%\n",
      "[21,000] Accuracy: 82.60%\n",
      "[22,000] Accuracy: 82.62%\n",
      "[23,000] Accuracy: 82.49%\n",
      "[24,000] Accuracy: 82.42%\n",
      "[25,000] Accuracy: 82.31%\n",
      "[26,000] Accuracy: 82.21%\n",
      "[27,000] Accuracy: 82.13%\n",
      "[28,000] Accuracy: 82.11%\n",
      "[29,000] Accuracy: 82.09%\n",
      "[30,000] Accuracy: 82.06%\n",
      "[31,000] Accuracy: 82.05%\n",
      "[32,000] Accuracy: 81.95%\n",
      "[32,561] Accuracy: 81.94%\n",
      "Accuracy final: 0.8194\n"
     ]
    },
    {
     "data": {
      "text/plain": [
       "0.8194103194103194"
      ]
     },
     "execution_count": 38,
     "metadata": {},
     "output_type": "execute_result"
    }
   ],
   "source": [
    "data_stream = stream.iter_csv(\n",
    "    csv_file,\n",
    "    target=\"income\",\n",
    "    converters={\"income\": lambda x: 1 if \">50K\" in str(x) else 0}\n",
    ")\n",
    "evaluar_modelo(data_stream, modelo_nombre=\"HDT\")"
   ]
  },
  {
   "cell_type": "markdown",
   "id": "9224d384",
   "metadata": {},
   "source": [
    "Se obtiene un Accuracy =~ 0.82 sin detección de drift."
   ]
  },
  {
   "cell_type": "markdown",
   "id": "6a2949b6",
   "metadata": {},
   "source": [
    "# 3.6 Ejecutar evaluación HAT"
   ]
  },
  {
   "cell_type": "code",
   "execution_count": 12,
   "id": "045ca3a7",
   "metadata": {},
   "outputs": [
    {
     "name": "stdout",
     "output_type": "stream",
     "text": [
      "*** Evaluación con modelo: HAT ***\n",
      "\n",
      "[1,000] Accuracy: 85.09%\n",
      "[2,000] Accuracy: 74.34%\n",
      "[3,000] Accuracy: 72.89%\n",
      "[4,000] Accuracy: 73.92%\n",
      "[5,000] Accuracy: 75.30%\n",
      "[6,000] Accuracy: 76.01%\n",
      "[7,000] Accuracy: 75.33%\n",
      "[8,000] Accuracy: 75.67%\n",
      "[9,000] Accuracy: 76.32%\n",
      "[10,000] Accuracy: 76.67%\n",
      "[11,000] Accuracy: 77.08%\n",
      "[12,000] Accuracy: 77.37%\n",
      "[13,000] Accuracy: 74.24%\n",
      "[14,000] Accuracy: 72.21%\n",
      "[15,000] Accuracy: 72.79%\n",
      "[16,000] Accuracy: 73.32%\n",
      "[17,000] Accuracy: 73.82%\n",
      "[18,000] Accuracy: 74.08%\n",
      "[19,000] Accuracy: 74.44%\n",
      "[20,000] Accuracy: 74.69%\n",
      "[21,000] Accuracy: 75.04%\n",
      "[22,000] Accuracy: 75.26%\n",
      "[23,000] Accuracy: 75.40%\n",
      "[24,000] Accuracy: 75.60%\n",
      "[25,000] Accuracy: 75.82%\n",
      "[26,000] Accuracy: 75.90%\n",
      "[27,000] Accuracy: 76.00%\n",
      "[28,000] Accuracy: 76.11%\n",
      "[29,000] Accuracy: 76.29%\n",
      "[30,000] Accuracy: 76.39%\n",
      "[31,000] Accuracy: 76.54%\n",
      "[32,000] Accuracy: 76.54%\n",
      "[32,561] Accuracy: 76.59%\n",
      "Accuracy final: 0.7659\n"
     ]
    },
    {
     "data": {
      "text/plain": [
       "0.7659090909090909"
      ]
     },
     "execution_count": 12,
     "metadata": {},
     "output_type": "execute_result"
    }
   ],
   "source": [
    "data_stream = stream.iter_csv(\n",
    "    csv_file,\n",
    "    target=\"income\",\n",
    "    converters={\"income\": lambda x: 1 if \">50K\" in str(x) else 0}\n",
    ")\n",
    "evaluar_modelo(data_stream, modelo_nombre=\"HAT\")"
   ]
  },
  {
   "cell_type": "markdown",
   "id": "9ff86715",
   "metadata": {},
   "source": [
    "El rendimiento de Hoeffding Adaptive Tree (HAT) =~ 0.79 empeora ligeramente respecto a HDT, esto podría deberse a su mecanismo de detección de drift y adaptación que introduce complejidad y posibles reseteos innecesarios."
   ]
  },
  {
   "cell_type": "markdown",
   "id": "019dc1eb",
   "metadata": {},
   "source": [
    "# 3.7 Ejecutar evaluación EFDT\n",
    "Finalmente esta opción fue descartada ya que, aunque mejorase los resultados, su coste computacional (más de 1 hora en mi equipo) hace que su uso no merezca la pena. "
   ]
  },
  {
   "cell_type": "code",
   "execution_count": null,
   "id": "49e94817",
   "metadata": {},
   "outputs": [
    {
     "name": "stdout",
     "output_type": "stream",
     "text": [
      "*** Evaluación con modelo: EFDT ***\n",
      "\n",
      "[1,000] Accuracy: 89.89%\n",
      "[2,000] Accuracy: 91.60%\n",
      "[3,000] Accuracy: 94.06%\n",
      "[4,000] Accuracy: 91.27%\n"
     ]
    },
    {
     "ename": "KeyboardInterrupt",
     "evalue": "",
     "output_type": "error",
     "traceback": [
      "\u001b[31m---------------------------------------------------------------------------\u001b[39m",
      "\u001b[31mKeyboardInterrupt\u001b[39m                         Traceback (most recent call last)",
      "\u001b[36mCell\u001b[39m\u001b[36m \u001b[39m\u001b[32mIn[13]\u001b[39m\u001b[32m, line 6\u001b[39m\n\u001b[32m      1\u001b[39m data_stream = stream.iter_csv(\n\u001b[32m      2\u001b[39m     csv_file,\n\u001b[32m      3\u001b[39m     target=\u001b[33m\"\u001b[39m\u001b[33mincome\u001b[39m\u001b[33m\"\u001b[39m,\n\u001b[32m      4\u001b[39m     converters={\u001b[33m\"\u001b[39m\u001b[33mincome\u001b[39m\u001b[33m\"\u001b[39m: \u001b[38;5;28;01mlambda\u001b[39;00m x: \u001b[32m1\u001b[39m \u001b[38;5;28;01mif\u001b[39;00m \u001b[33m\"\u001b[39m\u001b[33m>50K\u001b[39m\u001b[33m\"\u001b[39m \u001b[38;5;129;01min\u001b[39;00m \u001b[38;5;28mstr\u001b[39m(x) \u001b[38;5;28;01melse\u001b[39;00m \u001b[32m0\u001b[39m}\n\u001b[32m      5\u001b[39m )\n\u001b[32m----> \u001b[39m\u001b[32m6\u001b[39m \u001b[43mevaluar_modelo\u001b[49m\u001b[43m(\u001b[49m\u001b[43mdata_stream\u001b[49m\u001b[43m,\u001b[49m\u001b[43m \u001b[49m\u001b[43mmodelo_nombre\u001b[49m\u001b[43m=\u001b[49m\u001b[33;43m\"\u001b[39;49m\u001b[33;43mEFDT\u001b[39;49m\u001b[33;43m\"\u001b[39;49m\u001b[43m)\u001b[49m\n",
      "\u001b[36mCell\u001b[39m\u001b[36m \u001b[39m\u001b[32mIn[7]\u001b[39m\u001b[32m, line 5\u001b[39m, in \u001b[36mevaluar_modelo\u001b[39m\u001b[34m(data, modelo_nombre)\u001b[39m\n\u001b[32m      3\u001b[39m metricas = metrics.Accuracy()\n\u001b[32m      4\u001b[39m \u001b[38;5;28mprint\u001b[39m(\u001b[33mf\u001b[39m\u001b[33m\"\u001b[39m\u001b[33m*** Evaluación con modelo: \u001b[39m\u001b[38;5;132;01m{\u001b[39;00mmodelo_nombre.upper()\u001b[38;5;132;01m}\u001b[39;00m\u001b[33m ***\u001b[39m\u001b[38;5;130;01m\\n\u001b[39;00m\u001b[33m\"\u001b[39m)\n\u001b[32m----> \u001b[39m\u001b[32m5\u001b[39m resultado = \u001b[43mevaluate\u001b[49m\u001b[43m.\u001b[49m\u001b[43mprogressive_val_score\u001b[49m\u001b[43m(\u001b[49m\n\u001b[32m      6\u001b[39m \u001b[43m    \u001b[49m\u001b[43mdataset\u001b[49m\u001b[43m=\u001b[49m\u001b[43mdata\u001b[49m\u001b[43m,\u001b[49m\n\u001b[32m      7\u001b[39m \u001b[43m    \u001b[49m\u001b[43mmodel\u001b[49m\u001b[43m=\u001b[49m\u001b[43mmodelo\u001b[49m\u001b[43m,\u001b[49m\n\u001b[32m      8\u001b[39m \u001b[43m    \u001b[49m\u001b[43mmetric\u001b[49m\u001b[43m=\u001b[49m\u001b[43mmetricas\u001b[49m\u001b[43m,\u001b[49m\n\u001b[32m      9\u001b[39m \u001b[43m    \u001b[49m\u001b[43mprint_every\u001b[49m\u001b[43m=\u001b[49m\u001b[32;43m1000\u001b[39;49m\u001b[43m  \u001b[49m\u001b[38;5;66;43;03m# imprime cada 1000 instancias\u001b[39;49;00m\n\u001b[32m     10\u001b[39m \u001b[43m\u001b[49m\u001b[43m)\u001b[49m\n\u001b[32m     11\u001b[39m \u001b[38;5;28mprint\u001b[39m(\u001b[33mf\u001b[39m\u001b[33m\"\u001b[39m\u001b[33mAccuracy final: \u001b[39m\u001b[38;5;132;01m{\u001b[39;00mresultado.get()\u001b[38;5;132;01m:\u001b[39;00m\u001b[33m.4f\u001b[39m\u001b[38;5;132;01m}\u001b[39;00m\u001b[33m\"\u001b[39m)\n\u001b[32m     12\u001b[39m \u001b[38;5;28;01mreturn\u001b[39;00m resultado.get()\n",
      "\u001b[36mFile \u001b[39m\u001b[32m~\\AppData\\Local\\Packages\\PythonSoftwareFoundation.Python.3.12_qbz5n2kfra8p0\\LocalCache\\local-packages\\Python312\\site-packages\\river\\evaluate\\progressive_validation.py:397\u001b[39m, in \u001b[36mprogressive_val_score\u001b[39m\u001b[34m(dataset, model, metric, moment, delay, print_every, show_time, show_memory, **print_kwargs)\u001b[39m\n\u001b[32m    384\u001b[39m checkpoints = iter_progressive_val_score(\n\u001b[32m    385\u001b[39m     dataset=dataset,\n\u001b[32m    386\u001b[39m     model=model,\n\u001b[32m   (...)\u001b[39m\u001b[32m    392\u001b[39m     measure_memory=show_memory,\n\u001b[32m    393\u001b[39m )\n\u001b[32m    395\u001b[39m active_learning = utils.inspect.isactivelearner(model)\n\u001b[32m--> \u001b[39m\u001b[32m397\u001b[39m \u001b[43m\u001b[49m\u001b[38;5;28;43;01mfor\u001b[39;49;00m\u001b[43m \u001b[49m\u001b[43mcheckpoint\u001b[49m\u001b[43m \u001b[49m\u001b[38;5;129;43;01min\u001b[39;49;00m\u001b[43m \u001b[49m\u001b[43mcheckpoints\u001b[49m\u001b[43m:\u001b[49m\n\u001b[32m    398\u001b[39m \u001b[43m    \u001b[49m\u001b[43mmsg\u001b[49m\u001b[43m \u001b[49m\u001b[43m=\u001b[49m\u001b[43m \u001b[49m\u001b[33;43mf\u001b[39;49m\u001b[33;43m\"\u001b[39;49m\u001b[33;43m[\u001b[39;49m\u001b[38;5;132;43;01m{\u001b[39;49;00m\u001b[43mcheckpoint\u001b[49m\u001b[43m[\u001b[49m\u001b[33;43m'\u001b[39;49m\u001b[33;43mStep\u001b[39;49m\u001b[33;43m'\u001b[39;49m\u001b[43m]\u001b[49m\u001b[38;5;132;43;01m:\u001b[39;49;00m\u001b[33;43m,d\u001b[39;49m\u001b[38;5;132;43;01m}\u001b[39;49;00m\u001b[33;43m] \u001b[39;49m\u001b[38;5;132;43;01m{\u001b[39;49;00m\u001b[43mmetric\u001b[49m\u001b[38;5;132;43;01m}\u001b[39;49;00m\u001b[33;43m\"\u001b[39;49m\n\u001b[32m    399\u001b[39m \u001b[43m    \u001b[49m\u001b[38;5;28;43;01mif\u001b[39;49;00m\u001b[43m \u001b[49m\u001b[43mactive_learning\u001b[49m\u001b[43m:\u001b[49m\n",
      "\u001b[36mFile \u001b[39m\u001b[32m~\\AppData\\Local\\Packages\\PythonSoftwareFoundation.Python.3.12_qbz5n2kfra8p0\\LocalCache\\local-packages\\Python312\\site-packages\\river\\evaluate\\progressive_validation.py:218\u001b[39m, in \u001b[36miter_progressive_val_score\u001b[39m\u001b[34m(dataset, model, metric, moment, delay, step, measure_time, measure_memory, yield_predictions)\u001b[39m\n\u001b[32m    106\u001b[39m \u001b[38;5;28;01mdef\u001b[39;00m\u001b[38;5;250m \u001b[39m\u001b[34miter_progressive_val_score\u001b[39m(\n\u001b[32m    107\u001b[39m     dataset: base.typing.Dataset,\n\u001b[32m    108\u001b[39m     model,\n\u001b[32m   (...)\u001b[39m\u001b[32m    115\u001b[39m     yield_predictions=\u001b[38;5;28;01mFalse\u001b[39;00m,\n\u001b[32m    116\u001b[39m ) -> typing.Generator:\n\u001b[32m    117\u001b[39m \u001b[38;5;250m    \u001b[39m\u001b[33;03m\"\"\"Evaluates the performance of a model on a streaming dataset and yields results.\u001b[39;00m\n\u001b[32m    118\u001b[39m \n\u001b[32m    119\u001b[39m \u001b[33;03m    This does exactly the same as `evaluate.progressive_val_score`. The only difference is that\u001b[39;00m\n\u001b[32m   (...)\u001b[39m\u001b[32m    215\u001b[39m \n\u001b[32m    216\u001b[39m \u001b[33;03m    \"\"\"\u001b[39;00m\n\u001b[32m--> \u001b[39m\u001b[32m218\u001b[39m     \u001b[38;5;28;01myield from\u001b[39;00m _progressive_validation(\n\u001b[32m    219\u001b[39m         dataset,\n\u001b[32m    220\u001b[39m         model,\n\u001b[32m    221\u001b[39m         metric,\n\u001b[32m    222\u001b[39m         checkpoints=itertools.count(step, step) \u001b[38;5;28;01mif\u001b[39;00m step \u001b[38;5;28;01melse\u001b[39;00m \u001b[38;5;28miter\u001b[39m([]),\n\u001b[32m    223\u001b[39m         moment=moment,\n\u001b[32m    224\u001b[39m         delay=delay,\n\u001b[32m    225\u001b[39m         measure_time=measure_time,\n\u001b[32m    226\u001b[39m         measure_memory=measure_memory,\n\u001b[32m    227\u001b[39m         yield_predictions=yield_predictions,\n\u001b[32m    228\u001b[39m     )\n",
      "\u001b[36mFile \u001b[39m\u001b[32m~\\AppData\\Local\\Packages\\PythonSoftwareFoundation.Python.3.12_qbz5n2kfra8p0\\LocalCache\\local-packages\\Python312\\site-packages\\river\\evaluate\\progressive_validation.py:90\u001b[39m, in \u001b[36m_progressive_validation\u001b[39m\u001b[34m(dataset, model, metric, checkpoints, moment, delay, measure_time, measure_memory, yield_predictions)\u001b[39m\n\u001b[32m     88\u001b[39m n_samples_learned += \u001b[32m1\u001b[39m\n\u001b[32m     89\u001b[39m \u001b[38;5;28;01mif\u001b[39;00m model._supervised:\n\u001b[32m---> \u001b[39m\u001b[32m90\u001b[39m     \u001b[43mmodel\u001b[49m\u001b[43m.\u001b[49m\u001b[43mlearn_one\u001b[49m\u001b[43m(\u001b[49m\u001b[43mx\u001b[49m\u001b[43m,\u001b[49m\u001b[43m \u001b[49m\u001b[43my\u001b[49m\u001b[43m,\u001b[49m\u001b[43m \u001b[49m\u001b[43m*\u001b[49m\u001b[43m*\u001b[49m\u001b[43mkwargs\u001b[49m\u001b[43m)\u001b[49m\n\u001b[32m     91\u001b[39m \u001b[38;5;28;01melse\u001b[39;00m:\n\u001b[32m     92\u001b[39m     model.learn_one(x, **kwargs)\n",
      "\u001b[36mFile \u001b[39m\u001b[32m~\\AppData\\Local\\Packages\\PythonSoftwareFoundation.Python.3.12_qbz5n2kfra8p0\\LocalCache\\local-packages\\Python312\\site-packages\\river\\tree\\extremely_fast_decision_tree.py:243\u001b[39m, in \u001b[36mExtremelyFastDecisionTreeClassifier.learn_one\u001b[39m\u001b[34m(self, x, y, w)\u001b[39m\n\u001b[32m    241\u001b[39m \u001b[38;5;28mself\u001b[39m._sort_to_leaf(x, y, w)\n\u001b[32m    242\u001b[39m \u001b[38;5;66;03m# Process all nodes, starting from root to the leaf where the instance x belongs.\u001b[39;00m\n\u001b[32m--> \u001b[39m\u001b[32m243\u001b[39m \u001b[38;5;28;43mself\u001b[39;49m\u001b[43m.\u001b[49m\u001b[43m_process_nodes\u001b[49m\u001b[43m(\u001b[49m\u001b[43mx\u001b[49m\u001b[43m,\u001b[49m\u001b[43m \u001b[49m\u001b[43my\u001b[49m\u001b[43m,\u001b[49m\u001b[43m \u001b[49m\u001b[43mw\u001b[49m\u001b[43m,\u001b[49m\u001b[43m \u001b[49m\u001b[38;5;28;43mself\u001b[39;49m\u001b[43m.\u001b[49m\u001b[43m_root\u001b[49m\u001b[43m,\u001b[49m\u001b[43m \u001b[49m\u001b[38;5;28;43;01mNone\u001b[39;49;00m\u001b[43m,\u001b[49m\u001b[43m \u001b[49m\u001b[38;5;28;43;01mNone\u001b[39;49;00m\u001b[43m)\u001b[49m\n",
      "\u001b[36mFile \u001b[39m\u001b[32m~\\AppData\\Local\\Packages\\PythonSoftwareFoundation.Python.3.12_qbz5n2kfra8p0\\LocalCache\\local-packages\\Python312\\site-packages\\river\\tree\\extremely_fast_decision_tree.py:323\u001b[39m, in \u001b[36mExtremelyFastDecisionTreeClassifier._process_nodes\u001b[39m\u001b[34m(self, x, y, w, node, parent, branch_index)\u001b[39m\n\u001b[32m    319\u001b[39m stop_flag = \u001b[38;5;28;01mFalse\u001b[39;00m\n\u001b[32m    321\u001b[39m \u001b[38;5;28;01mif\u001b[39;00m (new_weight - old_weight) >= \u001b[38;5;28mself\u001b[39m.min_samples_reevaluate:\n\u001b[32m    322\u001b[39m     \u001b[38;5;66;03m# Reevaluate the best split\u001b[39;00m\n\u001b[32m--> \u001b[39m\u001b[32m323\u001b[39m     stop_flag = \u001b[38;5;28;43mself\u001b[39;49m\u001b[43m.\u001b[49m\u001b[43m_reevaluate_best_split\u001b[49m\u001b[43m(\u001b[49m\n\u001b[32m    324\u001b[39m \u001b[43m        \u001b[49m\u001b[43mnode\u001b[49m\u001b[43m,\u001b[49m\n\u001b[32m    325\u001b[39m \u001b[43m        \u001b[49m\u001b[43mparent\u001b[49m\u001b[43m,\u001b[49m\n\u001b[32m    326\u001b[39m \u001b[43m        \u001b[49m\u001b[43mbranch_index\u001b[49m\u001b[43m,\u001b[49m\n\u001b[32m    327\u001b[39m \u001b[43m        \u001b[49m\u001b[38;5;66;43;03m# The attribute observer template that will be replicated to new leaves\u001b[39;49;00m\n\u001b[32m    328\u001b[39m \u001b[43m        \u001b[49m\u001b[43msplitter\u001b[49m\u001b[43m=\u001b[49m\u001b[38;5;28;43mself\u001b[39;49m\u001b[43m.\u001b[49m\u001b[43msplitter\u001b[49m\u001b[43m,\u001b[49m\n\u001b[32m    329\u001b[39m \u001b[43m        \u001b[49m\u001b[38;5;66;43;03m# Existing attribute observers that will be leveraged\u001b[39;49;00m\n\u001b[32m    330\u001b[39m \u001b[43m        \u001b[49m\u001b[43msplitters\u001b[49m\u001b[43m=\u001b[49m\u001b[43mnode\u001b[49m\u001b[43m.\u001b[49m\u001b[43msplitters\u001b[49m\u001b[43m,\u001b[49m\n\u001b[32m    331\u001b[39m \u001b[43m    \u001b[49m\u001b[43m)\u001b[49m\n\u001b[32m    333\u001b[39m \u001b[38;5;28;01mif\u001b[39;00m \u001b[38;5;129;01mnot\u001b[39;00m stop_flag:\n\u001b[32m    334\u001b[39m     \u001b[38;5;66;03m# Move in depth\u001b[39;00m\n\u001b[32m    335\u001b[39m     \u001b[38;5;28;01mtry\u001b[39;00m:\n",
      "\u001b[36mFile \u001b[39m\u001b[32m~\\AppData\\Local\\Packages\\PythonSoftwareFoundation.Python.3.12_qbz5n2kfra8p0\\LocalCache\\local-packages\\Python312\\site-packages\\river\\tree\\extremely_fast_decision_tree.py:396\u001b[39m, in \u001b[36mExtremelyFastDecisionTreeClassifier._reevaluate_best_split\u001b[39m\u001b[34m(self, node, parent, branch_index, **kwargs)\u001b[39m\n\u001b[32m    394\u001b[39m \u001b[38;5;28;01mif\u001b[39;00m \u001b[38;5;129;01mnot\u001b[39;00m node.observed_class_distribution_is_pure():\n\u001b[32m    395\u001b[39m     split_criterion = \u001b[38;5;28mself\u001b[39m._new_split_criterion()\n\u001b[32m--> \u001b[39m\u001b[32m396\u001b[39m     best_split_suggestions = \u001b[43mnode\u001b[49m\u001b[43m.\u001b[49m\u001b[43mbest_split_suggestions\u001b[49m\u001b[43m(\u001b[49m\u001b[43msplit_criterion\u001b[49m\u001b[43m,\u001b[49m\u001b[43m \u001b[49m\u001b[38;5;28;43mself\u001b[39;49m\u001b[43m)\u001b[49m\n\u001b[32m    397\u001b[39m     \u001b[38;5;28;01mif\u001b[39;00m \u001b[38;5;28mlen\u001b[39m(best_split_suggestions) > \u001b[32m0\u001b[39m:\n\u001b[32m    398\u001b[39m         \u001b[38;5;66;03m# Sort the attribute accordingly to their split merit for each attribute\u001b[39;00m\n\u001b[32m    399\u001b[39m         \u001b[38;5;66;03m# (except the null one)\u001b[39;00m\n\u001b[32m    400\u001b[39m         best_split_suggestions.sort()\n",
      "\u001b[36mFile \u001b[39m\u001b[32m~\\AppData\\Local\\Packages\\PythonSoftwareFoundation.Python.3.12_qbz5n2kfra8p0\\LocalCache\\local-packages\\Python312\\site-packages\\river\\tree\\nodes\\efdtc_nodes.py:230\u001b[39m, in \u001b[36mBaseEFDTBranch.best_split_suggestions\u001b[39m\u001b[34m(self, criterion, tree)\u001b[39m\n\u001b[32m    227\u001b[39m pre_split_dist = \u001b[38;5;28mself\u001b[39m.stats\n\u001b[32m    229\u001b[39m \u001b[38;5;28;01mfor\u001b[39;00m idx, splitter \u001b[38;5;129;01min\u001b[39;00m \u001b[38;5;28mself\u001b[39m.splitters.items():\n\u001b[32m--> \u001b[39m\u001b[32m230\u001b[39m     best_suggestion = \u001b[43msplitter\u001b[49m\u001b[43m.\u001b[49m\u001b[43mbest_evaluated_split_suggestion\u001b[49m\u001b[43m(\u001b[49m\n\u001b[32m    231\u001b[39m \u001b[43m        \u001b[49m\u001b[43mcriterion\u001b[49m\u001b[43m,\u001b[49m\u001b[43m \u001b[49m\u001b[43mpre_split_dist\u001b[49m\u001b[43m,\u001b[49m\u001b[43m \u001b[49m\u001b[43midx\u001b[49m\u001b[43m,\u001b[49m\u001b[43m \u001b[49m\u001b[43mtree\u001b[49m\u001b[43m.\u001b[49m\u001b[43mbinary_split\u001b[49m\n\u001b[32m    232\u001b[39m \u001b[43m    \u001b[49m\u001b[43m)\u001b[49m\n\u001b[32m    233\u001b[39m     \u001b[38;5;28;01mif\u001b[39;00m best_suggestion \u001b[38;5;129;01mis\u001b[39;00m \u001b[38;5;129;01mnot\u001b[39;00m \u001b[38;5;28;01mNone\u001b[39;00m:\n\u001b[32m    234\u001b[39m         best_suggestions.append(best_suggestion)\n",
      "\u001b[36mFile \u001b[39m\u001b[32m~\\AppData\\Local\\Packages\\PythonSoftwareFoundation.Python.3.12_qbz5n2kfra8p0\\LocalCache\\local-packages\\Python312\\site-packages\\river\\tree\\splitter\\nominal_splitter_classif.py:69\u001b[39m, in \u001b[36mNominalSplitterClassif.best_evaluated_split_suggestion\u001b[39m\u001b[34m(self, criterion, pre_split_dist, att_idx, binary_only)\u001b[39m\n\u001b[32m     59\u001b[39m     best_suggestion = BranchFactory(\n\u001b[32m     60\u001b[39m         merit,\n\u001b[32m     61\u001b[39m         att_idx,\n\u001b[32m   (...)\u001b[39m\u001b[32m     65\u001b[39m         multiway_split=\u001b[38;5;28;01mTrue\u001b[39;00m,\n\u001b[32m     66\u001b[39m     )\n\u001b[32m     68\u001b[39m \u001b[38;5;28;01mfor\u001b[39;00m att_val \u001b[38;5;129;01min\u001b[39;00m \u001b[38;5;28mself\u001b[39m._att_values:\n\u001b[32m---> \u001b[39m\u001b[32m69\u001b[39m     post_split_dist = \u001b[38;5;28;43mself\u001b[39;49m\u001b[43m.\u001b[49m\u001b[43m_class_dist_from_binary_split\u001b[49m\u001b[43m(\u001b[49m\u001b[43matt_val\u001b[49m\u001b[43m)\u001b[49m\n\u001b[32m     70\u001b[39m     merit = criterion.merit_of_split(pre_split_dist, post_split_dist)\n\u001b[32m     71\u001b[39m     \u001b[38;5;28;01mif\u001b[39;00m best_suggestion \u001b[38;5;129;01mis\u001b[39;00m \u001b[38;5;28;01mNone\u001b[39;00m \u001b[38;5;129;01mor\u001b[39;00m merit > best_suggestion.merit:\n",
      "\u001b[36mFile \u001b[39m\u001b[32m~\\AppData\\Local\\Packages\\PythonSoftwareFoundation.Python.3.12_qbz5n2kfra8p0\\LocalCache\\local-packages\\Python312\\site-packages\\river\\tree\\splitter\\nominal_splitter_classif.py:109\u001b[39m, in \u001b[36mNominalSplitterClassif._class_dist_from_binary_split\u001b[39m\u001b[34m(self, val_idx)\u001b[39m\n\u001b[32m    107\u001b[39m             \u001b[38;5;28;01mif\u001b[39;00m class_val \u001b[38;5;129;01mnot\u001b[39;00m \u001b[38;5;129;01min\u001b[39;00m not_equal_dist:\n\u001b[32m    108\u001b[39m                 not_equal_dist[class_val] = \u001b[32m0.0\u001b[39m\n\u001b[32m--> \u001b[39m\u001b[32m109\u001b[39m             not_equal_dist[class_val] += weight\n\u001b[32m    110\u001b[39m \u001b[38;5;28;01mreturn\u001b[39;00m [equal_dist, not_equal_dist]\n",
      "\u001b[31mKeyboardInterrupt\u001b[39m: "
     ]
    }
   ],
   "source": [
    "# data_stream = stream.iter_csv(\n",
    "#     csv_file,\n",
    "#     target=\"income\",\n",
    "#     converters={\"income\": lambda x: 1 if \">50K\" in str(x) else 0}\n",
    "# )\n",
    "# evaluar_modelo(data_stream, modelo_nombre=\"EFDT\")"
   ]
  },
  {
   "cell_type": "markdown",
   "id": "5f545426",
   "metadata": {},
   "source": [
    "# 3.8 Evaluación HDT con detección de drift\n",
    "Como HDT no es adaptativo requiere el uso de detectores de concept drift para reiniciarse en caso de que exista.\n",
    "\n",
    "He utilizado para este caso 'DDM', 'ADWIN', 'HDDM_W'.\n",
    "DDM por ser simple al estar basado en la probabilidad de error.\n",
    "ADWIN al utilizar una ventana deslizante detecta tanto cambios bruscos como graduales.\n",
    "Y HDDM_W por ser más ligero y eficiente que ADWIN pero más robusto que DDM."
   ]
  },
  {
   "cell_type": "code",
   "execution_count": null,
   "id": "2f4ae732",
   "metadata": {},
   "outputs": [
    {
     "name": "stdout",
     "output_type": "stream",
     "text": [
      "*** Evaluación con modelo HDT y detector DDM ***\n",
      "\n",
      "[Drift detectado en instancia 148] Accuracy acumulada antes de reinicio: 0.7162\n",
      "[Drift detectado en instancia 192] Accuracy acumulada antes de reinicio: 0.6875\n",
      "[Drift detectado en instancia 357] Accuracy acumulada antes de reinicio: 0.7591\n",
      "[Drift detectado en instancia 517] Accuracy acumulada antes de reinicio: 0.8317\n",
      "[Drift detectado en instancia 908] Accuracy acumulada antes de reinicio: 0.8535\n",
      "[Drift detectado en instancia 959] Accuracy acumulada antes de reinicio: 0.8561\n",
      "[Drift detectado en instancia 993] Accuracy acumulada antes de reinicio: 0.8580\n",
      "Instancia 1000 | Accuracy: 0.8590\n",
      "[Drift detectado en instancia 1342] Accuracy acumulada antes de reinicio: 0.8905\n",
      "[Drift detectado en instancia 1380] Accuracy acumulada antes de reinicio: 0.8899\n",
      "[Drift detectado en instancia 1536] Accuracy acumulada antes de reinicio: 0.8652\n",
      "[Drift detectado en instancia 1679] Accuracy acumulada antes de reinicio: 0.8761\n",
      "Instancia 2000 | Accuracy: 0.8910\n",
      "[Drift detectado en instancia 2246] Accuracy acumulada antes de reinicio: 0.9003\n",
      "[Drift detectado en instancia 2661] Accuracy acumulada antes de reinicio: 0.9136\n",
      "[Drift detectado en instancia 2922] Accuracy acumulada antes de reinicio: 0.9182\n",
      "[Drift detectado en instancia 2958] Accuracy acumulada antes de reinicio: 0.9182\n",
      "Instancia 3000 | Accuracy: 0.9137\n",
      "[Drift detectado en instancia 3111] Accuracy acumulada antes de reinicio: 0.9077\n",
      "[Drift detectado en instancia 3168] Accuracy acumulada antes de reinicio: 0.9091\n",
      "[Drift detectado en instancia 3307] Accuracy acumulada antes de reinicio: 0.8954\n",
      "[Drift detectado en instancia 3358] Accuracy acumulada antes de reinicio: 0.8931\n",
      "[Drift detectado en instancia 3663] Accuracy acumulada antes de reinicio: 0.9017\n",
      "[Drift detectado en instancia 3709] Accuracy acumulada antes de reinicio: 0.9027\n",
      "[Drift detectado en instancia 3766] Accuracy acumulada antes de reinicio: 0.9002\n",
      "Instancia 4000 | Accuracy: 0.9060\n",
      "[Drift detectado en instancia 4238] Accuracy acumulada antes de reinicio: 0.9110\n",
      "Instancia 5000 | Accuracy: 0.8948\n",
      "Instancia 6000 | Accuracy: 0.8783\n",
      "Instancia 7000 | Accuracy: 0.8676\n",
      "Instancia 8000 | Accuracy: 0.8609\n",
      "Instancia 9000 | Accuracy: 0.8537\n",
      "Instancia 10000 | Accuracy: 0.8445\n",
      "Instancia 11000 | Accuracy: 0.8421\n",
      "Instancia 12000 | Accuracy: 0.8399\n",
      "Instancia 13000 | Accuracy: 0.8369\n",
      "Instancia 14000 | Accuracy: 0.8337\n",
      "Instancia 15000 | Accuracy: 0.8323\n",
      "Instancia 16000 | Accuracy: 0.8313\n",
      "Instancia 17000 | Accuracy: 0.8312\n",
      "Instancia 18000 | Accuracy: 0.8283\n",
      "Instancia 19000 | Accuracy: 0.8254\n",
      "Instancia 20000 | Accuracy: 0.8246\n",
      "Instancia 21000 | Accuracy: 0.8250\n",
      "Instancia 22000 | Accuracy: 0.8251\n",
      "Instancia 23000 | Accuracy: 0.8239\n",
      "Instancia 24000 | Accuracy: 0.8232\n",
      "Instancia 25000 | Accuracy: 0.8222\n",
      "Instancia 26000 | Accuracy: 0.8212\n",
      "Instancia 27000 | Accuracy: 0.8205\n",
      "Instancia 28000 | Accuracy: 0.8203\n",
      "Instancia 29000 | Accuracy: 0.8201\n",
      "Instancia 30000 | Accuracy: 0.8198\n",
      "Instancia 31000 | Accuracy: 0.8198\n",
      "Instancia 32000 | Accuracy: 0.8188\n",
      "Procesando instancia 32561...\n",
      "Accuracy final: 0.8187\n"
     ]
    },
    {
     "data": {
      "text/plain": [
       "0.8187094990940081"
      ]
     },
     "execution_count": 15,
     "metadata": {},
     "output_type": "execute_result"
    }
   ],
   "source": [
    "data_stream = stream.iter_csv(\n",
    "    csv_file,\n",
    "    target=\"income\",\n",
    "    converters={\"income\": lambda x: 1 if \">50K\" in str(x) else 0}\n",
    ")\n",
    "evaluar_modelo_con_drift(data_stream, modelo_nombre=\"HDT\", detector_nombre='DDM', delay=0.0)\n"
   ]
  },
  {
   "cell_type": "code",
   "execution_count": null,
   "id": "e939dfbd",
   "metadata": {},
   "outputs": [
    {
     "name": "stdout",
     "output_type": "stream",
     "text": [
      "*** Evaluación con modelo HDT y detector ADWIN ***\n",
      "\n",
      "[Drift detectado en instancia 352] Accuracy acumulada antes de reinicio: 0.7642\n",
      "[Drift detectado en instancia 576] Accuracy acumulada antes de reinicio: 0.8160\n",
      "[Drift detectado en instancia 928] Accuracy acumulada antes de reinicio: 0.8394\n",
      "Instancia 1000 | Accuracy: 0.8310\n",
      "[Drift detectado en instancia 1120] Accuracy acumulada antes de reinicio: 0.8143\n",
      "[Drift detectado en instancia 1408] Accuracy acumulada antes de reinicio: 0.8317\n",
      "[Drift detectado en instancia 1568] Accuracy acumulada antes de reinicio: 0.8061\n",
      "Instancia 2000 | Accuracy: 0.8435\n",
      "[Drift detectado en instancia 2944] Accuracy acumulada antes de reinicio: 0.8808\n",
      "Instancia 3000 | Accuracy: 0.8760\n",
      "[Drift detectado en instancia 3136] Accuracy acumulada antes de reinicio: 0.8629\n",
      "[Drift detectado en instancia 3328] Accuracy acumulada antes de reinicio: 0.8486\n",
      "[Drift detectado en instancia 3552] Accuracy acumulada antes de reinicio: 0.8525\n",
      "Instancia 4000 | Accuracy: 0.8600\n",
      "[Drift detectado en instancia 4896] Accuracy acumulada antes de reinicio: 0.8552\n",
      "Instancia 5000 | Accuracy: 0.8536\n",
      "Instancia 6000 | Accuracy: 0.8440\n",
      "Instancia 7000 | Accuracy: 0.8381\n",
      "Instancia 8000 | Accuracy: 0.8363\n",
      "Instancia 9000 | Accuracy: 0.8337\n",
      "Instancia 10000 | Accuracy: 0.8308\n",
      "Instancia 11000 | Accuracy: 0.8293\n",
      "Instancia 12000 | Accuracy: 0.8277\n",
      "Instancia 13000 | Accuracy: 0.8268\n",
      "Instancia 14000 | Accuracy: 0.8255\n",
      "Instancia 15000 | Accuracy: 0.8257\n",
      "Instancia 16000 | Accuracy: 0.8261\n",
      "Instancia 17000 | Accuracy: 0.8276\n",
      "Instancia 18000 | Accuracy: 0.8279\n",
      "Instancia 19000 | Accuracy: 0.8282\n",
      "Instancia 20000 | Accuracy: 0.8292\n",
      "Instancia 21000 | Accuracy: 0.8295\n",
      "[Drift detectado en instancia 21056] Accuracy acumulada antes de reinicio: 0.8298\n",
      "Instancia 22000 | Accuracy: 0.8289\n",
      "Instancia 23000 | Accuracy: 0.8275\n",
      "Instancia 24000 | Accuracy: 0.8267\n",
      "Instancia 25000 | Accuracy: 0.8260\n",
      "Instancia 26000 | Accuracy: 0.8250\n",
      "Instancia 27000 | Accuracy: 0.8245\n",
      "Instancia 28000 | Accuracy: 0.8246\n",
      "Instancia 29000 | Accuracy: 0.8250\n",
      "Instancia 30000 | Accuracy: 0.8251\n",
      "Instancia 31000 | Accuracy: 0.8252\n",
      "Instancia 32000 | Accuracy: 0.8247\n",
      "\n",
      "Accuracy final: 0.8247\n"
     ]
    },
    {
     "data": {
      "text/plain": [
       "0.8246675470655078"
      ]
     },
     "execution_count": 17,
     "metadata": {},
     "output_type": "execute_result"
    }
   ],
   "source": [
    "data_stream = stream.iter_csv(\n",
    "    csv_file,\n",
    "    target=\"income\",\n",
    "    converters={\"income\": lambda x: 1 if \">50K\" in str(x) else 0}\n",
    ")\n",
    "evaluar_modelo_con_drift(data_stream, modelo_nombre=\"HDT\", detector_nombre='ADWIN', delay=0.0)"
   ]
  },
  {
   "cell_type": "code",
   "execution_count": null,
   "id": "5293f3b8",
   "metadata": {},
   "outputs": [
    {
     "name": "stdout",
     "output_type": "stream",
     "text": [
      "*** Evaluación con modelo HDT y detector HDDM_W ***\n",
      "\n",
      "[Drift detectado en instancia 144] Accuracy acumulada antes de reinicio: 0.7361\n",
      "Instancia 1000 | Accuracy: 0.9110\n",
      "[Drift detectado en instancia 1421] Accuracy acumulada antes de reinicio: 0.9113\n",
      "[Drift detectado en instancia 1534] Accuracy acumulada antes de reinicio: 0.8983\n",
      "Instancia 2000 | Accuracy: 0.9175\n",
      "[Drift detectado en instancia 2929] Accuracy acumulada antes de reinicio: 0.9358\n",
      "Instancia 3000 | Accuracy: 0.9297\n",
      "[Drift detectado en instancia 3111] Accuracy acumulada antes de reinicio: 0.9196\n",
      "[Drift detectado en instancia 3198] Accuracy acumulada antes de reinicio: 0.9174\n",
      "[Drift detectado en instancia 3309] Accuracy acumulada antes de reinicio: 0.9066\n",
      "[Drift detectado en instancia 3380] Accuracy acumulada antes de reinicio: 0.8982\n",
      "[Drift detectado en instancia 3768] Accuracy acumulada antes de reinicio: 0.9026\n",
      "Instancia 4000 | Accuracy: 0.9083\n",
      "[Drift detectado en instancia 4238] Accuracy acumulada antes de reinicio: 0.9132\n",
      "Instancia 5000 | Accuracy: 0.8966\n",
      "Instancia 6000 | Accuracy: 0.8798\n",
      "Instancia 7000 | Accuracy: 0.8689\n",
      "Instancia 8000 | Accuracy: 0.8620\n",
      "Instancia 9000 | Accuracy: 0.8547\n",
      "[Drift detectado en instancia 9191] Accuracy acumulada antes de reinicio: 0.8517\n",
      "Instancia 10000 | Accuracy: 0.8497\n",
      "Instancia 11000 | Accuracy: 0.8473\n",
      "Instancia 12000 | Accuracy: 0.8442\n",
      "Instancia 13000 | Accuracy: 0.8415\n",
      "Instancia 14000 | Accuracy: 0.8357\n",
      "Instancia 15000 | Accuracy: 0.8324\n",
      "Instancia 16000 | Accuracy: 0.8295\n",
      "Instancia 17000 | Accuracy: 0.8291\n",
      "Instancia 18000 | Accuracy: 0.8275\n",
      "Instancia 19000 | Accuracy: 0.8263\n",
      "Instancia 20000 | Accuracy: 0.8249\n",
      "Instancia 21000 | Accuracy: 0.8245\n",
      "Instancia 22000 | Accuracy: 0.8242\n",
      "Instancia 23000 | Accuracy: 0.8236\n",
      "Instancia 24000 | Accuracy: 0.8226\n",
      "[Drift detectado en instancia 24804] Accuracy acumulada antes de reinicio: 0.8221\n",
      "Instancia 25000 | Accuracy: 0.8224\n",
      "Instancia 26000 | Accuracy: 0.8213\n",
      "Instancia 27000 | Accuracy: 0.8209\n",
      "Instancia 28000 | Accuracy: 0.8204\n",
      "Instancia 29000 | Accuracy: 0.8198\n",
      "Instancia 30000 | Accuracy: 0.8190\n",
      "Instancia 31000 | Accuracy: 0.8193\n",
      "[Drift detectado en instancia 31637] Accuracy acumulada antes de reinicio: 0.8183\n",
      "Instancia 32000 | Accuracy: 0.8179\n",
      "\n",
      "Accuracy final: 0.8180\n"
     ]
    },
    {
     "data": {
      "text/plain": [
       "0.8179724209944412"
      ]
     },
     "execution_count": 18,
     "metadata": {},
     "output_type": "execute_result"
    }
   ],
   "source": [
    "data_stream = stream.iter_csv(\n",
    "    csv_file,\n",
    "    target=\"income\",\n",
    "    converters={\"income\": lambda x: 1 if \">50K\" in str(x) else 0}\n",
    ")\n",
    "evaluar_modelo_con_drift(data_stream, modelo_nombre=\"HDT\", detector_nombre='HDDM_W', delay=0.0)"
   ]
  },
  {
   "cell_type": "markdown",
   "id": "e82f8a06",
   "metadata": {},
   "source": [
    "Aunque observamos que detecta muchas veces drift, sobre todo en las primeras instancias y vemos que mejora tras reiniciar el modelo, hacia el final del dataset deja de haber esa variabilidad en el concepto y el accuracy final acaba siendo practicamente igual al obtenido sin detección de drift."
   ]
  },
  {
   "cell_type": "markdown",
   "id": "aa80b88f",
   "metadata": {},
   "source": [
    "# 3.8 Evaluación de HAT con detección de drift"
   ]
  },
  {
   "cell_type": "markdown",
   "id": "d75af2b3",
   "metadata": {},
   "source": [
    "HAT incorpora su propio ADWIN interno para sustituir ramas cuando detecta cambios locales. Estas adaptaciones generan variaciones en la secuencia de errores que hacen que salte el detector externo, produciendo más alertas de drift, incluso sin cambios reales en la distribución. Por lo que no tiene mucho sentido utilizar un detecor externo basado en el error como DDM con HAT."
   ]
  },
  {
   "cell_type": "code",
   "execution_count": null,
   "id": "53b35217",
   "metadata": {},
   "outputs": [
    {
     "name": "stdout",
     "output_type": "stream",
     "text": [
      "*** Evaluación con modelo HAT y detector DDM ***\n",
      "\n",
      "[Drift detectado en instancia 148] Accuracy acumulada antes de reinicio: 0.7230\n",
      "[Drift detectado en instancia 192] Accuracy acumulada antes de reinicio: 0.6927\n",
      "[Drift detectado en instancia 358] Accuracy acumulada antes de reinicio: 0.7542\n",
      "[Drift detectado en instancia 517] Accuracy acumulada antes de reinicio: 0.8279\n",
      "[Drift detectado en instancia 909] Accuracy acumulada antes de reinicio: 0.8449\n",
      "[Drift detectado en instancia 961] Accuracy acumulada antes de reinicio: 0.8439\n",
      "[Drift detectado en instancia 995] Accuracy acumulada antes de reinicio: 0.8442\n",
      "Instancia 1000 | Accuracy: 0.8450\n",
      "[Drift detectado en instancia 1342] Accuracy acumulada antes de reinicio: 0.8808\n",
      "[Drift detectado en instancia 1380] Accuracy acumulada antes de reinicio: 0.8804\n",
      "[Drift detectado en instancia 1537] Accuracy acumulada antes de reinicio: 0.8543\n",
      "[Drift detectado en instancia 1679] Accuracy acumulada antes de reinicio: 0.8660\n",
      "Instancia 2000 | Accuracy: 0.8820\n",
      "[Drift detectado en instancia 2927] Accuracy acumulada antes de reinicio: 0.9122\n",
      "[Drift detectado en instancia 2974] Accuracy acumulada antes de reinicio: 0.9095\n",
      "Instancia 3000 | Accuracy: 0.9050\n",
      "[Drift detectado en instancia 3106] Accuracy acumulada antes de reinicio: 0.9050\n",
      "[Drift detectado en instancia 3168] Accuracy acumulada antes de reinicio: 0.9066\n",
      "[Drift detectado en instancia 3233] Accuracy acumulada antes de reinicio: 0.8982\n",
      "[Drift detectado en instancia 3285] Accuracy acumulada antes de reinicio: 0.8995\n",
      "[Drift detectado en instancia 3361] Accuracy acumulada antes de reinicio: 0.8953\n",
      "[Drift detectado en instancia 3663] Accuracy acumulada antes de reinicio: 0.9036\n",
      "[Drift detectado en instancia 3709] Accuracy acumulada antes de reinicio: 0.9046\n",
      "[Drift detectado en instancia 3767] Accuracy acumulada antes de reinicio: 0.9015\n",
      "Instancia 4000 | Accuracy: 0.9073\n",
      "[Drift detectado en instancia 4238] Accuracy acumulada antes de reinicio: 0.9122\n",
      "[Drift detectado en instancia 4408] Accuracy acumulada antes de reinicio: 0.9038\n",
      "[Drift detectado en instancia 4561] Accuracy acumulada antes de reinicio: 0.8989\n",
      "[Drift detectado en instancia 4718] Accuracy acumulada antes de reinicio: 0.8951\n",
      "[Drift detectado en instancia 4878] Accuracy acumulada antes de reinicio: 0.8893\n",
      "Instancia 5000 | Accuracy: 0.8850\n",
      "[Drift detectado en instancia 5044] Accuracy acumulada antes de reinicio: 0.8824\n",
      "Instancia 6000 | Accuracy: 0.8677\n",
      "Instancia 7000 | Accuracy: 0.8561\n",
      "Instancia 8000 | Accuracy: 0.8508\n",
      "Instancia 9000 | Accuracy: 0.8469\n",
      "Instancia 10000 | Accuracy: 0.8421\n",
      "Instancia 11000 | Accuracy: 0.8395\n",
      "Instancia 12000 | Accuracy: 0.8368\n",
      "Instancia 13000 | Accuracy: 0.8339\n",
      "Instancia 14000 | Accuracy: 0.8306\n",
      "Instancia 15000 | Accuracy: 0.8285\n",
      "Instancia 16000 | Accuracy: 0.8266\n",
      "Instancia 17000 | Accuracy: 0.8264\n",
      "Instancia 18000 | Accuracy: 0.8233\n",
      "Instancia 19000 | Accuracy: 0.8223\n",
      "Instancia 20000 | Accuracy: 0.8213\n",
      "Instancia 21000 | Accuracy: 0.8203\n",
      "Instancia 22000 | Accuracy: 0.8189\n",
      "Instancia 23000 | Accuracy: 0.8175\n",
      "Instancia 24000 | Accuracy: 0.8170\n",
      "Instancia 25000 | Accuracy: 0.8160\n",
      "Instancia 26000 | Accuracy: 0.8149\n",
      "Instancia 27000 | Accuracy: 0.8138\n",
      "Instancia 28000 | Accuracy: 0.8130\n",
      "Instancia 29000 | Accuracy: 0.8124\n",
      "Instancia 30000 | Accuracy: 0.8117\n",
      "Instancia 31000 | Accuracy: 0.8112\n",
      "Instancia 32000 | Accuracy: 0.8095\n",
      "\n",
      "Accuracy final: 0.8091\n"
     ]
    },
    {
     "data": {
      "text/plain": [
       "0.8090967722121557"
      ]
     },
     "execution_count": 20,
     "metadata": {},
     "output_type": "execute_result"
    }
   ],
   "source": [
    "data_stream = stream.iter_csv(\n",
    "    csv_file,\n",
    "    target=\"income\",\n",
    "    converters={\"income\": lambda x: 1 if \">50K\" in str(x) else 0}\n",
    ")\n",
    "evaluar_modelo_con_drift(data_stream, modelo_nombre=\"HAT\", detector_nombre='DDM', delay=0.0)"
   ]
  },
  {
   "cell_type": "markdown",
   "id": "361eef45",
   "metadata": {},
   "source": [
    "En este caso concreto conviene emplear KSWIN con parámetros más permisivos porque Hoeffding Adaptive Tree (HAT) ya incorpora su propio mecanismo de adaptación al concepto mediante ADWIN en las hojas. Esto significa que el modelo se reajusta de forma interna cuando detecta variaciones, sin necesidad de un detector externo muy sensible. Si KSWIN fuera demasiado estricto, podría disparar falsas alarmas ante simples fluctuaciones, provocando reacciones innecesarias sobre un clasificador que ya se está ajustando. Al configurarlo de forma más permisiva (aumentando window_size y reduciendo alpha) KSWIN se limita a señalar únicamente cambios realmente sustanciales en lugar de duplicar o entorpecer, la capacidad adaptativa que ya tiene HAT."
   ]
  },
  {
   "cell_type": "code",
   "execution_count": null,
   "id": "50ff553a",
   "metadata": {},
   "outputs": [
    {
     "name": "stdout",
     "output_type": "stream",
     "text": [
      "[Drift detectado en instancia 1000] Accuracy acumulada antes de reinicio: 0.8240\n",
      "Instancia 1000 | Accuracy: 0.8240\n",
      "[Drift detectado en instancia 2000] Accuracy acumulada antes de reinicio: 0.7820\n",
      "Instancia 2000 | Accuracy: 0.7820\n",
      "[Drift detectado en instancia 3000] Accuracy acumulada antes de reinicio: 0.8300\n",
      "Instancia 3000 | Accuracy: 0.8300\n",
      "Instancia 4000 | Accuracy: 0.8223\n",
      "[Drift detectado en instancia 4406] Accuracy acumulada antes de reinicio: 0.8205\n",
      "Instancia 5000 | Accuracy: 0.8196\n",
      "Instancia 6000 | Accuracy: 0.8157\n",
      "Instancia 7000 | Accuracy: 0.8140\n",
      "Instancia 8000 | Accuracy: 0.8146\n",
      "Instancia 9000 | Accuracy: 0.8143\n",
      "Instancia 10000 | Accuracy: 0.8107\n",
      "[Drift detectado en instancia 10083] Accuracy acumulada antes de reinicio: 0.8095\n",
      "Instancia 11000 | Accuracy: 0.8106\n",
      "Instancia 12000 | Accuracy: 0.8103\n",
      "Instancia 13000 | Accuracy: 0.8105\n",
      "Instancia 14000 | Accuracy: 0.8093\n",
      "Instancia 15000 | Accuracy: 0.8087\n",
      "Instancia 16000 | Accuracy: 0.8086\n",
      "Instancia 17000 | Accuracy: 0.8095\n",
      "Instancia 18000 | Accuracy: 0.8077\n",
      "[Drift detectado en instancia 18859] Accuracy acumulada antes de reinicio: 0.8046\n",
      "Instancia 19000 | Accuracy: 0.8047\n",
      "Instancia 20000 | Accuracy: 0.8052\n",
      "Instancia 21000 | Accuracy: 0.8060\n",
      "Instancia 22000 | Accuracy: 0.8060\n",
      "Instancia 23000 | Accuracy: 0.8053\n",
      "Instancia 24000 | Accuracy: 0.8053\n",
      "Instancia 25000 | Accuracy: 0.8053\n",
      "Instancia 26000 | Accuracy: 0.8047\n",
      "Instancia 27000 | Accuracy: 0.8046\n",
      "[Drift detectado en instancia 27312] Accuracy acumulada antes de reinicio: 0.8032\n",
      "Instancia 28000 | Accuracy: 0.8034\n",
      "Instancia 29000 | Accuracy: 0.8037\n",
      "Instancia 30000 | Accuracy: 0.8036\n",
      "Instancia 31000 | Accuracy: 0.8043\n",
      "Instancia 32000 | Accuracy: 0.8035\n",
      "\n",
      "Accuracy final: 0.8034\n"
     ]
    }
   ],
   "source": [
    "data_stream = stream.iter_csv(\n",
    "    csv_file,\n",
    "    target=\"income\",\n",
    "    converters={\"income\": lambda x: 1 if \">50K\" in str(x) else 0}\n",
    ")\n",
    "\n",
    "modelo = elegir_modelo(\"HAT\")\n",
    "detector = drift.KSWIN(alpha=0.0005, window_size=1000, stat_size=200)\n",
    "\n",
    "acc = metrics.Accuracy()\n",
    "\n",
    "for i, (X, y) in enumerate(data_stream, start=1):\n",
    "    \n",
    "    y_pred = modelo.predict_one(X)\n",
    "    \n",
    "    acc.update(y, y_pred)\n",
    "\n",
    "    detector.update(int(y_pred != y))\n",
    "\n",
    "    if detector.drift_detected:\n",
    "        print(f\"[Drift detectado en instancia {i}] \"\n",
    "                f\"Accuracy acumulada antes de reinicio: {acc.get():.4f}\")\n",
    "        modelo = elegir_modelo(\"HAT\")\n",
    "        detector = drift.KSWIN(alpha=0.0005, window_size=1000, stat_size=200)\n",
    "\n",
    "    modelo.learn_one(X, y)\n",
    "\n",
    "    if i % 1000 == 0:\n",
    "        print(f\"Instancia {i} | Accuracy: {acc.get():.4f}\")\n",
    "\n",
    "print(f\"\\nAccuracy final: {acc.get():.4f}\")\n",
    "\n"
   ]
  },
  {
   "cell_type": "markdown",
   "id": "4ba9ff9a",
   "metadata": {},
   "source": [
    "# Data drift\n",
    "En este apartado he decidido aplicar un detector de data drift al atributo \"hours-per-week\"de esta forma, en un caso real podríamos ver si la distribución de las horas trabajadas por semana cambia significativamente a lo largo del tiempo, por ejemplo por una posible reducción de jornada o un aumento de la productividad en el mercado laboral."
   ]
  },
  {
   "cell_type": "code",
   "execution_count": null,
   "id": "c7c97805",
   "metadata": {},
   "outputs": [
    {
     "name": "stdout",
     "output_type": "stream",
     "text": [
      "[Drift detectado] Instancia 503 | hours-per-week = 50.0\n",
      "[Drift detectado] Instancia 1041 | hours-per-week = 25.0\n",
      "[Drift detectado] Instancia 1558 | hours-per-week = 50.0\n",
      "[Drift detectado] Instancia 2163 | hours-per-week = 45.0\n",
      "[Drift detectado] Instancia 2679 | hours-per-week = 40.0\n",
      "[Drift detectado] Instancia 3509 | hours-per-week = 40.0\n",
      "[Drift detectado] Instancia 4171 | hours-per-week = 22.0\n",
      "[Drift detectado] Instancia 5569 | hours-per-week = 40.0\n",
      "[Drift detectado] Instancia 7061 | hours-per-week = 40.0\n",
      "[Drift detectado] Instancia 10534 | hours-per-week = 40.0\n",
      "[Drift detectado] Instancia 11600 | hours-per-week = 50.0\n",
      "[Drift detectado] Instancia 14422 | hours-per-week = 36.0\n",
      "[Drift detectado] Instancia 15721 | hours-per-week = 40.0\n",
      "[Drift detectado] Instancia 17440 | hours-per-week = 40.0\n",
      "[Drift detectado] Instancia 18951 | hours-per-week = 40.0\n",
      "[Drift detectado] Instancia 19577 | hours-per-week = 60.0\n",
      "[Drift detectado] Instancia 22520 | hours-per-week = 65.0\n",
      "[Drift detectado] Instancia 23037 | hours-per-week = 50.0\n",
      "[Drift detectado] Instancia 23699 | hours-per-week = 10.0\n",
      "[Drift detectado] Instancia 24713 | hours-per-week = 40.0\n",
      "[Drift detectado] Instancia 25625 | hours-per-week = 45.0\n",
      "[Drift detectado] Instancia 27235 | hours-per-week = 84.0\n",
      "[Drift detectado] Instancia 27779 | hours-per-week = 43.0\n",
      "[Drift detectado] Instancia 29627 | hours-per-week = 16.0\n"
     ]
    }
   ],
   "source": [
    "data_stream = stream.iter_csv(\n",
    "    csv_file,\n",
    "    target=\"income\",\n",
    "    converters={\n",
    "        \"income\": lambda x: 1 if \">50K\" in str(x) else 0,\n",
    "        \"hours.per.week\": float    # aseguramos tipo numérico\n",
    "    }\n",
    ")\n",
    "\n",
    "kswin = drift.KSWIN(alpha=0.015, window_size=500, stat_size=30)\n",
    "\n",
    "for i, (X, y) in enumerate(data_stream, start=1):\n",
    "    hours_val = float(X[\"hours.per.week\"])\n",
    "\n",
    "    kswin.update(hours_val)\n",
    "    # Comprobamos si se detecta drift\n",
    "    if kswin.drift_detected:\n",
    "        print(f\"[Drift detectado] Instancia {i} | hours-per-week = {hours_val}\")\n",
    "        kswin = drift.KSWIN(alpha=0.015, window_size=500, stat_size=30)\n",
    "\n"
   ]
  },
  {
   "cell_type": "markdown",
   "id": "e77b7aba",
   "metadata": {},
   "source": [
    "# 3.9 Comparación con Decision Tree por lotes"
   ]
  },
  {
   "cell_type": "code",
   "execution_count": null,
   "id": "74e4a50e",
   "metadata": {},
   "outputs": [
    {
     "name": "stdout",
     "output_type": "stream",
     "text": [
      "Accuracy en test: 0.8141\n"
     ]
    }
   ],
   "source": [
    "df[\"income\"] = df[\"income\"].apply(lambda x: 1 if \">50K\" in str(x) else 0)\n",
    "\n",
    "# One-hot encoding de variables categóricas\n",
    "X = pd.get_dummies(df.drop(columns=\"income\"), drop_first=True)\n",
    "y = df[\"income\"]\n",
    "\n",
    "# División en entrenamiento y test\n",
    "X_train, X_test, y_train, y_test = train_test_split(\n",
    "    X, y, test_size=0.2, random_state=42, stratify=y\n",
    ")\n",
    "\n",
    "dtc = DecisionTreeClassifier(\n",
    "    criterion=\"gini\", \n",
    "    max_depth=None,      \n",
    "    random_state=42\n",
    ")\n",
    "dtc.fit(X_train, y_train)\n",
    "\n",
    "y_pred = dtc.predict(X_test)\n",
    "acc = accuracy_score(y_test, y_pred)\n",
    "\n",
    "print(f\"Accuracy en test: {acc:.4f}\")"
   ]
  },
  {
   "cell_type": "markdown",
   "id": "944d9474",
   "metadata": {},
   "source": [
    "En el escenario por lotes el árbol ve todo el conjunto de entrenamiento a la vez y puede construir una estructura óptima para ese conjunto.\n",
    "\n",
    "El modelo incremental solo ve cada ejemplo en orden, aprendiendo poco a poco.\n",
    "\n",
    "Esta limitación hace que la accuracy en el modelo incremental/online sea, en general, menor, aunque en este caso no se note demasiado esa diferencia."
   ]
  },
  {
   "cell_type": "markdown",
   "id": "e8ba3f08",
   "metadata": {},
   "source": [
    "# 3.10 Naive Bayes Incremental\n",
    "Naive Bayes incremental es apropiado en este problema de flujo de datos porque combina simplicidad y bajo coste computacional, además nos sirve un punto de comparación valioso frente a clasificadores incrementales más elaborados como los arboles probados en los anteriores puntos del notebook. Como antes hemos observado que el dataset no cuenta con un concept drift demasiado claro, no veo necesario el uso de Fadin Factor ventanas deslizantes."
   ]
  },
  {
   "cell_type": "code",
   "execution_count": 18,
   "id": "7e4b2aaa",
   "metadata": {},
   "outputs": [
    {
     "name": "stdout",
     "output_type": "stream",
     "text": [
      "[1,000] Accuracy: 70.67%\n",
      "[2,000] Accuracy: 61.28%\n",
      "[3,000] Accuracy: 71.72%\n",
      "[4,000] Accuracy: 60.74%\n",
      "[5,000] Accuracy: 53.95%\n",
      "[6,000] Accuracy: 58.23%\n",
      "[7,000] Accuracy: 61.38%\n",
      "[8,000] Accuracy: 64.00%\n",
      "[9,000] Accuracy: 65.93%\n",
      "[10,000] Accuracy: 67.41%\n",
      "[11,000] Accuracy: 68.76%\n",
      "[12,000] Accuracy: 69.78%\n",
      "[13,000] Accuracy: 70.70%\n",
      "[14,000] Accuracy: 71.38%\n",
      "[15,000] Accuracy: 72.02%\n",
      "[16,000] Accuracy: 72.57%\n",
      "[17,000] Accuracy: 73.18%\n",
      "[18,000] Accuracy: 73.51%\n",
      "[19,000] Accuracy: 73.93%\n",
      "[20,000] Accuracy: 74.29%\n",
      "[21,000] Accuracy: 74.69%\n",
      "[22,000] Accuracy: 74.98%\n",
      "[23,000] Accuracy: 75.19%\n",
      "[24,000] Accuracy: 75.43%\n",
      "[25,000] Accuracy: 75.66%\n",
      "[26,000] Accuracy: 75.81%\n",
      "[27,000] Accuracy: 75.99%\n",
      "[28,000] Accuracy: 76.16%\n",
      "[29,000] Accuracy: 76.36%\n",
      "[30,000] Accuracy: 76.48%\n",
      "[31,000] Accuracy: 76.67%\n",
      "[32,000] Accuracy: 76.73%\n",
      "[32,561] Accuracy: 76.82%\n",
      "\n",
      " Accuracy final: 0.7682\n"
     ]
    }
   ],
   "source": [
    "data_stream = stream.iter_csv(\n",
    "    csv_file,\n",
    "    target=\"income\",\n",
    "    converters={\"income\": lambda x: 1 if \">50K\" in str(x) else 0}\n",
    ")\n",
    "\n",
    "#  Onehot encoding para convertir las variables categóricas en numéricas\n",
    "nb_model = preprocessing.OneHotEncoder() | naive_bayes.GaussianNB()\n",
    "\n",
    "metric = metrics.Accuracy()\n",
    "\n",
    "accuracy_final = evaluate.progressive_val_score(\n",
    "    dataset=data_stream,\n",
    "    model=nb_model,\n",
    "    metric=metric,\n",
    "    print_every=1000\n",
    ")\n",
    "\n",
    "print(f\"\\n Accuracy final: {accuracy_final.get():.4f}\")"
   ]
  },
  {
   "cell_type": "markdown",
   "id": "ba23b150",
   "metadata": {},
   "source": [
    "# 3.11 Ensembles\n",
    "En este punto tiene sentido probar algún ensemble, en concreto ADWINBaggingClassifier porque combina, en un único algoritmo, dos de las ideas clave que he tratado: arboles incrementales y detección automática de concept drift. Este modelo mantiene un conjunto de HDTs que aprenden de manera online y, al mismo tiempo, incorpora ADWIN como detector interno de cambios. ADWIN monitoriza la secuencia de errores de cada árbol y, cuando detecta que la distribución de esos errores ha variado significativamente, asume que el concepto ha cambiado y reemplaza el solo el árbol afectado por uno nuevo. Así, el clasificador se adapta de forma continua a posibles variaciones en los datos del flujo sin que tengamos que reiniciar manualmente el entrenamiento ni decidir cuándo ocurren los cambios. Esto lo convierte en una opción muy adecuada para escenarios en los que esperamos concept drift.\n",
    "\n",
    "Como ya hemos concluído antes, el conjunto de datos utilizado no presenta un drift muy acusado por lo que la aplicación de este tipo de modelos podría estar \"sobreactuando\" y aumentando la complijidad de un problema más o menos estable, lo que podría explicar la ligera bajada de rendimiento frente a modelos sencillos."
   ]
  },
  {
   "cell_type": "code",
   "execution_count": 16,
   "id": "3a287c2a",
   "metadata": {},
   "outputs": [
    {
     "name": "stdout",
     "output_type": "stream",
     "text": [
      "*** Evaluación ADWIN BaggingClassifier ***\n",
      "\n",
      "[1,000] Accuracy: 70.97%\n",
      "[2,000] Accuracy: 75.59%\n",
      "[3,000] Accuracy: 81.26%\n",
      "[4,000] Accuracy: 83.95%\n",
      "[5,000] Accuracy: 81.92%\n",
      "[6,000] Accuracy: 81.53%\n",
      "[7,000] Accuracy: 81.40%\n",
      "[8,000] Accuracy: 79.41%\n",
      "[9,000] Accuracy: 79.66%\n",
      "[10,000] Accuracy: 79.73%\n",
      "[11,000] Accuracy: 79.91%\n",
      "[12,000] Accuracy: 79.98%\n",
      "[13,000] Accuracy: 80.06%\n",
      "[14,000] Accuracy: 79.86%\n",
      "[15,000] Accuracy: 79.35%\n",
      "[16,000] Accuracy: 79.00%\n",
      "[17,000] Accuracy: 79.16%\n",
      "[18,000] Accuracy: 79.13%\n",
      "[19,000] Accuracy: 79.16%\n",
      "[20,000] Accuracy: 78.93%\n",
      "[21,000] Accuracy: 78.62%\n",
      "[22,000] Accuracy: 78.48%\n",
      "[23,000] Accuracy: 78.13%\n",
      "[24,000] Accuracy: 77.80%\n",
      "[25,000] Accuracy: 77.84%\n",
      "[26,000] Accuracy: 77.83%\n",
      "[27,000] Accuracy: 77.84%\n",
      "[28,000] Accuracy: 77.89%\n",
      "[29,000] Accuracy: 77.98%\n",
      "[30,000] Accuracy: 77.89%\n",
      "[31,000] Accuracy: 77.81%\n",
      "[32,000] Accuracy: 77.39%\n",
      "[32,561] Accuracy: 76.73%\n",
      "\n",
      "Accuracy final: 0.7673\n"
     ]
    }
   ],
   "source": [
    "data_stream = stream.iter_csv(\n",
    "    csv_file,\n",
    "    target=\"income\",\n",
    "    converters={\"income\": lambda x: 1 if \">50K\" in str(x) else 0}\n",
    ")\n",
    "\n",
    "model = ensemble.ADWINBaggingClassifier(\n",
    "    model=tree.HoeffdingTreeClassifier(),\n",
    "    n_models=5,    \n",
    "    seed=42\n",
    ")\n",
    "\n",
    "metric = metrics.Accuracy()\n",
    "\n",
    "print(\"*** Evaluación ADWIN BaggingClassifier ***\\n\")\n",
    "\n",
    "accuracy_final = evaluate.progressive_val_score(\n",
    "    dataset=data_stream,\n",
    "    model=model,\n",
    "    metric=metric,\n",
    "    print_every=1000\n",
    ")\n",
    "print(f\"\\nAccuracy final: {metric.get():.4f}\")\n"
   ]
  },
  {
   "cell_type": "markdown",
   "id": "3e0efa42",
   "metadata": {},
   "source": [
    "# 4 Conclusiones\n",
    "\n",
    "En esta práctica se ha demostrado la viabilidad de modelos de clasificación incremental para el problema de predicción de ingresos en el conjunto de datos utilizado, tratándolo como un flujo de datos continuo.\n",
    "\n",
    "\n",
    "Hoeffding Tree (HDT) ofreció un rendimiento sólido y estable.\n",
    "\n",
    "Hoeffding Adaptive Tree (HAT), diseñado para adaptarse a concept drift, no superó necesariamente a HDT en este conjunto. Esto nos sugiere que el dataset no presenta un concept drift claro.\n",
    "\n",
    "Detección de concept drift\n",
    "\n",
    "Se probaron detectores como DDM, ADWIN y KSWIN.\n",
    "\n",
    "Para HAT, que ya incorpora adaptación interna, utilicé KSWIN con parámetros más permisivos para monitorizar el flujo sin reinicios demasiado frecuentes, complementando la capacidad adaptativa del modelo sin interferir en exceso, esta aproximación demostró mejores resultados que aplicando el mismo reseteo que a un HDT.\n",
    "\n",
    "Deteccion de Data Drift \n",
    "\n",
    "La monitorización de la variable específica hours-per-week, evidenció que la distribución de ciertas características puede variar en el tiempo, en este caso por una posible nueva ley de reducción de jornada o por un aumento de la productividad en el mercado laboral.\n",
    "\n",
    "La prueba realizada con ensembles incrementales, concretamente con ADWINBaggingClassifier, muestra que en flujos de datos como el utilizado en este trabajo, donde la distribución de los datos es relativamente estacionaria, el coste de mantener varios modelos y reiniciarlos cuando ADWIN detecta cambios puede traducirse en una ligera pérdida de precisión frente a un único Hoeffding Tree. En otras palabras, la ventaja de los ensembles no radica en mejorar la exactitud en problemas ligeramente estáticos, sino en ofrecer robustez y resiliencia cuando las condiciones cambian realmente. En escenarios más dinámicos o sujetos a variaciones frecuentes, se esperaría que estos métodos superen a los modelos individuales, justificando su mayor complejidad computacional."
   ]
  },
  {
   "cell_type": "markdown",
   "id": "a53b0939",
   "metadata": {},
   "source": [
    "# Clustering incrmental\n",
    "A continuación utilizaremos el mismo datasets para realizar aprendizaje no supervisado, para ello eliminaremos la etiqueta utilizada antriormente para clasificación supervisada (ingresos > 50.000 o < 50.000). Con esta prueba buscamos que el sisitema agrupe los datos de los individuos intentando formar cluster que representarían grupos socioeconómicos distintos dentro de la sociedad representada en este dataset"
   ]
  },
  {
   "cell_type": "code",
   "execution_count": 4,
   "id": "4c458de2",
   "metadata": {},
   "outputs": [
    {
     "name": "stdout",
     "output_type": "stream",
     "text": [
      "Dataset para clustering - primeras 5 filas:\n",
      "   age workclass  fnlwgt     education  education.num marital.status  \\\n",
      "0   90         ?   77053       HS-grad              9        Widowed   \n",
      "1   82   Private  132870       HS-grad              9        Widowed   \n",
      "2   66         ?  186061  Some-college             10        Widowed   \n",
      "3   54   Private  140359       7th-8th              4       Divorced   \n",
      "4   41   Private  264663  Some-college             10      Separated   \n",
      "\n",
      "          occupation   relationship   race     sex  capital.gain  \\\n",
      "0                  ?  Not-in-family  White  Female             0   \n",
      "1    Exec-managerial  Not-in-family  White  Female             0   \n",
      "2                  ?      Unmarried  Black  Female             0   \n",
      "3  Machine-op-inspct      Unmarried  White  Female             0   \n",
      "4     Prof-specialty      Own-child  White  Female             0   \n",
      "\n",
      "   capital.loss  hours.per.week native.country  \n",
      "0          4356              40  United-States  \n",
      "1          4356              18  United-States  \n",
      "2          4356              40  United-States  \n",
      "3          3900              40  United-States  \n",
      "4          3900              40  United-States  \n",
      "\n",
      "Dimensiones del dataset: (32561, 14)\n",
      "\n",
      "Primera instancia del stream de clustering:\n",
      "{'age': '90', 'workclass': '?', 'fnlwgt': '77053', 'education': 'HS-grad', 'education.num': '9', 'marital.status': 'Widowed', 'occupation': '?', 'relationship': 'Not-in-family', 'race': 'White', 'sex': 'Female', 'capital.gain': '0', 'capital.loss': '4356', 'hours.per.week': '40', 'native.country': 'United-States'}\n"
     ]
    }
   ],
   "source": [
    "## Preparación de datos para clustering incremental\n",
    "\n",
    "# Cargar el dataset completo\n",
    "df_clustering = pd.read_csv(csv_file)\n",
    "\n",
    "# Eliminar la columna 'income' ya que vamos a hacer clustering no supervisado\n",
    "df_clustering = df_clustering.drop(columns=['income'])\n",
    "\n",
    "# Mostrar las primeras filas para verificar\n",
    "print(\"Dataset para clustering - primeras 5 filas:\")\n",
    "print(df_clustering.head())\n",
    "print(f\"\\nDimensiones del dataset: {df_clustering.shape}\")\n",
    "\n",
    "# Crear un stream de datos sin la variable objetivo\n",
    "clustering_stream = stream.iter_csv(\n",
    "    csv_file,\n",
    "    target=None,  # Sin variable objetivo para clustering\n",
    "    drop=[\"income\"]  # Eliminar explícitamente la columna income\n",
    ")\n",
    "\n",
    "# Verificar una instancia del stream\n",
    "print(\"\\nPrimera instancia del stream de clustering:\")\n",
    "for i, (X, _) in enumerate(clustering_stream):\n",
    "    if i == 0:  # Solo mostrar la primera instancia\n",
    "        print(X)\n",
    "        break"
   ]
  },
  {
   "cell_type": "code",
   "execution_count": 6,
   "id": "11584405",
   "metadata": {},
   "outputs": [
    {
     "name": "stdout",
     "output_type": "stream",
     "text": [
      "Distribución de clústeres:\n",
      "\n",
      "Clúster 0:\n",
      "<=50K    1.0\n",
      "Name: proportion, dtype: float64\n",
      "\n",
      "Clúster 1:\n",
      "<=50K    0.768\n",
      ">50K     0.232\n",
      "Name: proportion, dtype: float64\n",
      "\n",
      "Ejemplo de asignaciones:\n",
      "      income  cluster\n",
      "14160  <=50K        0\n",
      "27048  <=50K        1\n",
      "28868  <=50K        1\n",
      "5667   <=50K        0\n",
      "7827   <=50K        1\n",
      "15382  <=50K        1\n",
      "4641   <=50K        1\n",
      "8943   <=50K        1\n",
      "216    <=50K        1\n",
      "5121   <=50K        1\n"
     ]
    },
    {
     "data": {
      "image/png": "[encoded data removed]",
      "text/plain": [
       "<Figure size 800x600 with 1 Axes>"
      ]
     },
     "metadata": {},
     "output_type": "display_data"
    }
   ],
   "source": [
    "import pandas as pd\n",
    "from river import cluster, preprocessing\n",
    "from collections import defaultdict\n",
    "\n",
    "# 1. Cargar solo una muestra (para que no tarde tanto)\n",
    "df = pd.read_csv(\"adult.csv\").sample(5000, random_state=42)\n",
    "\n",
    "# 2. Selección de variables más manejable\n",
    "X = df.drop(columns=[\"income\"])\n",
    "y = df[\"income\"]\n",
    "\n",
    "# 3. Flujo instancia por instancia\n",
    "data_stream = (row.to_dict() for _, row in X.iterrows())\n",
    "\n",
    "# 4. Modelo de clustering incremental\n",
    "modelo = (\n",
    "    preprocessing.OneHotEncoder() |\n",
    "    preprocessing.StandardScaler() |\n",
    "    cluster.KMeans(n_clusters=2, seed=42)\n",
    ")\n",
    "\n",
    "# 5. Guardar asignaciones\n",
    "asignaciones = []\n",
    "cluster_labels = defaultdict(list)\n",
    "\n",
    "for xi, yi in zip(data_stream, y):\n",
    "    cluster_id = modelo.predict_one(xi)\n",
    "    asignaciones.append(cluster_id)\n",
    "    cluster_labels[cluster_id].append(yi)\n",
    "    modelo.learn_one(xi)\n",
    "\n",
    "# 6. Analizar resultados\n",
    "print(\"Distribución de clústeres:\")\n",
    "for cid, valores in cluster_labels.items():\n",
    "    distrib = pd.Series(valores).value_counts(normalize=True).round(3)\n",
    "    print(f\"\\nClúster {cid}:\")\n",
    "    print(distrib)\n",
    "\n",
    "df[\"cluster\"] = asignaciones\n",
    "print(\"\\nEjemplo de asignaciones:\")\n",
    "print(df[[\"income\", \"cluster\"]].head(10))\n",
    "\n",
    "import matplotlib.pyplot as plt\n",
    "from sklearn.decomposition import PCA\n",
    "\n",
    "# 🔹 Usamos solo las variables numéricas + one-hot encoding para graficar\n",
    "X_encoded = pd.get_dummies(X, drop_first=True)\n",
    "\n",
    "# 🔹 Reducimos a 2 dimensiones con PCA\n",
    "pca = PCA(n_components=2, random_state=42)\n",
    "X_pca = pca.fit_transform(X_encoded)\n",
    "\n",
    "# 🔹 Creamos un DataFrame con los componentes y los clusters asignados\n",
    "df_plot = pd.DataFrame({\n",
    "    \"PC1\": X_pca[:, 0],\n",
    "    \"PC2\": X_pca[:, 1],\n",
    "    \"Cluster\": df[\"cluster\"].astype(str),\n",
    "    \"Income\": df[\"income\"].astype(str)  # opcional, para colorear por income\n",
    "})\n",
    "\n",
    "# 🔹 Gráfico PCA con clústeres\n",
    "plt.figure(figsize=(8, 6))\n",
    "for c in df_plot[\"Cluster\"].unique():\n",
    "    subset = df_plot[df_plot[\"Cluster\"] == c]\n",
    "    plt.scatter(subset[\"PC1\"], subset[\"PC2\"], label=f\"Cluster {c}\", alpha=0.6)\n",
    "\n",
    "plt.title(\"Proyección PCA de Clústeres (Adult Census)\")\n",
    "plt.xlabel(\"PC1\")\n",
    "plt.ylabel(\"PC2\")\n",
    "plt.legend()\n",
    "plt.show()\n",
    "\n"
   ]
  },
  {
   "cell_type": "code",
   "execution_count": 11,
   "id": "5ea6e6ac",
   "metadata": {},
   "outputs": [
    {
     "data": {
      "image/png": "[encoded data removed]",
      "text/plain": [
       "<Figure size 800x600 with 1 Axes>"
      ]
     },
     "metadata": {},
     "output_type": "display_data"
    }
   ],
   "source": [
    "# 🔹 Gráfico PCA coloreado por la etiqueta real (income)\n",
    "plt.figure(figsize=(8, 6))\n",
    "for val in df_plot[\"Income\"].unique():\n",
    "    subset = df_plot[df_plot[\"Income\"] == val]\n",
    "    plt.scatter(subset[\"PC1\"], subset[\"PC2\"], label=f\"Income {val}\", alpha=0.6)\n",
    "\n",
    "plt.title(\"Proyección PCA coloreada por Income (Adult Census)\")\n",
    "plt.xlabel(\"PC1\")\n",
    "plt.ylabel(\"PC2\")\n",
    "plt.legend()\n",
    "plt.show()\n"
   ]
  }
 ],
 "metadata": {
  "kernelspec": {
   "display_name": "Python 3",
   "language": "python",
   "name": "python3"
  },
  "language_info": {
   "codemirror_mode": {
    "name": "ipython",
    "version": 3
   },
   "file_extension": ".py",
   "mimetype": "text/x-python",
   "name": "python",
   "nbconvert_exporter": "python",
   "pygments_lexer": "ipython3",
   "version": "3.12.10"
  }
 },
 "nbformat": 4,
 "nbformat_minor": 5
}
